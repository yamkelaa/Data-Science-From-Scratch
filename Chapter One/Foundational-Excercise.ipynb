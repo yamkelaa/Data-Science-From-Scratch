{
 "cells": [
  {
   "cell_type": "code",
   "execution_count": 1,
   "id": "6b5c1110-5163-4bc7-aafd-74175aebf925",
   "metadata": {},
   "outputs": [],
   "source": [
    "#user data \n",
    "users = [\n",
    "    { \"id\": 0, \"name\": \"Hero\" },\n",
    "    { \"id\": 1, \"name\": \"Dunn\" },\n",
    "    { \"id\": 2, \"name\": \"Sue\" },\n",
    "    { \"id\": 3, \"name\": \"Chi\" },\n",
    "    { \"id\": 4, \"name\": \"Thor\" },\n",
    "    { \"id\": 5, \"name\": \"Clive\" },\n",
    "    { \"id\": 6, \"name\": \"Hicks\" },\n",
    "    { \"id\": 7, \"name\": \"Devin\" },\n",
    "    { \"id\": 8, \"name\": \"Kate\" },\n",
    "    { \"id\": 9, \"name\": \"Klein\" }\n",
    "]"
   ]
  },
  {
   "cell_type": "code",
   "execution_count": 2,
   "id": "6730967a-0214-4d7a-a763-679281eef442",
   "metadata": {},
   "outputs": [],
   "source": [
    "#the users who are most likely to be friends with one another\n",
    "friendship_pairs = [(0, 1), (0, 2), (1, 2), (1, 3), (2, 3), (3, 4),\n",
    "(4, 5), (5, 6), (5, 7), (6, 8), (7, 8), (8, 9)]"
   ]
  },
  {
   "cell_type": "code",
   "execution_count": 3,
   "id": "b9305710-c7ea-4ed9-ba94-7697b5144220",
   "metadata": {},
   "outputs": [],
   "source": [
    "friendships = {user[\"id\"]: [] for user in users}"
   ]
  },
  {
   "cell_type": "code",
   "execution_count": 5,
   "id": "e6256ee9-08bb-4af1-a6c4-5224d4703269",
   "metadata": {},
   "outputs": [],
   "source": [
    "for i, j in friendship_pairs:\n",
    " friendships[i].append(j) # Add j as a friend of user i\n",
    " friendships[j].append(i) # Add i as a friend of user j"
   ]
  },
  {
   "cell_type": "code",
   "execution_count": 8,
   "id": "86f6e9a6-bab4-401f-9ac8-8f9dc7d84cf1",
   "metadata": {},
   "outputs": [],
   "source": [
    "def number_of_friends(user):\n",
    " user_id = user[\"id\"]\n",
    " friend_ids = friendships[user_id]\n",
    " return len(friend_ids)\n",
    "total_connections = sum(number_of_friends(user)\n",
    " for user in users)"
   ]
  },
  {
   "cell_type": "code",
   "execution_count": 9,
   "id": "56cea73f-6020-47f4-98ee-0e7f1cd3a0ed",
   "metadata": {},
   "outputs": [],
   "source": [
    "num_users = len(users) \n",
    "avg_connections = total_connections / num_users"
   ]
  },
  {
   "cell_type": "code",
   "execution_count": 10,
   "id": "cc6fc0b3-0901-429e-8cbe-02052d5b82c8",
   "metadata": {},
   "outputs": [],
   "source": [
    "num_friends_by_id = [(user[\"id\"], number_of_friends(user))\n",
    " for user in users]"
   ]
  },
  {
   "cell_type": "code",
   "execution_count": 11,
   "id": "a21e563c-0080-4500-8f40-c0288b4512ac",
   "metadata": {},
   "outputs": [],
   "source": [
    "#finding the most connected places\n",
    "num_friends_by_id.sort(\n",
    " key=lambda id_and_friends: id_and_friends[1],\n",
    " reverse=True)"
   ]
  },
  {
   "cell_type": "code",
   "execution_count": 13,
   "id": "3e209c82-f83d-4c77-8878-a8223be5cda4",
   "metadata": {},
   "outputs": [],
   "source": [
    "def foaf_ids_bad(user):\n",
    " return [foat_id\n",
    "         for friend_id in friendships[user[\"id\"]]\n",
    "         for foaf_id in friendships[friend_id]\n",
    "        ]"
   ]
  },
  {
   "cell_type": "code",
   "execution_count": 14,
   "id": "3a98f5f6-ecad-4d3a-8d59-eb5c63466ae2",
   "metadata": {},
   "outputs": [
    {
     "name": "stdout",
     "output_type": "stream",
     "text": [
      "[1, 2]\n",
      "[0, 2, 3]\n",
      "[0, 1, 3]\n"
     ]
    }
   ],
   "source": [
    "print(friendships[0]) # [1, 2]\n",
    "print(friendships[1]) # [0, 2, 3]\n",
    "print(friendships[2]) # [0, 1, 3]"
   ]
  },
  {
   "cell_type": "code",
   "execution_count": 15,
   "id": "f366effe-765a-419c-a62a-5bccb94987ba",
   "metadata": {},
   "outputs": [],
   "source": [
    "from collections import Counter"
   ]
  },
  {
   "cell_type": "code",
   "execution_count": 16,
   "id": "1388c906-70e6-458a-b6b0-b2a1a0b34d6e",
   "metadata": {},
   "outputs": [
    {
     "name": "stdout",
     "output_type": "stream",
     "text": [
      "Counter({0: 2, 5: 1})\n"
     ]
    }
   ],
   "source": [
    "def friends_of_friends(user):\n",
    " user_id = user[\"id\"]\n",
    " return Counter(\n",
    " foaf_id\n",
    " for friend_id in friendships[user_id] # For each of my friends,\n",
    "  for foaf_id in friendships[friend_id] # find their friends\n",
    "  if foaf_id != user_id # who aren't me\n",
    "  and foaf_id not in friendships[user_id] # and aren't my friends.\n",
    " )\n",
    "print(friends_of_friends(users[3])) "
   ]
  },
  {
   "cell_type": "code",
   "execution_count": 17,
   "id": "34bd1355-9f5b-4726-99e8-80adb9941e09",
   "metadata": {},
   "outputs": [],
   "source": [
    "interests = [\n",
    "(0, \"Hadoop\"), (0, \"Big Data\"), (0, \"HBase\"), (0, \"Java\"),\n",
    "(0, \"Spark\"), (0, \"Storm\"), (0, \"Cassandra\"),\n",
    "(1, \"NoSQL\"), (1, \"MongoDB\"), (1, \"Cassandra\"), (1, \"HBase\"),\n",
    "(1, \"Postgres\"), (2, \"Python\"), (2, \"scikit-learn\"), (2, \"scipy\"),\n",
    "(2, \"numpy\"), (2, \"statsmodels\"), (2, \"pandas\"), (3, \"R\"), (3, \"Python\"),\n",
    "(3, \"statistics\"), (3, \"regression\"), (3, \"probability\"),\n",
    "(4, \"machine learning\"), (4, \"regression\"), (4, \"decision trees\"),\n",
    "(4, \"libsvm\"), (5, \"Python\"), (5, \"R\"), (5, \"Java\"), (5, \"C++\"),\n",
    "(5, \"Haskell\"), (5, \"programming languages\"), (6, \"statistics\"),\n",
    "(6, \"probability\"), (6, \"mathematics\"), (6, \"theory\"),\n",
    "(7, \"machine learning\"), (7, \"scikit-learn\"), (7, \"Mahout\"),\n",
    "(7, \"neural networks\"), (8, \"neural networks\"), (8, \"deep learning\"),\n",
    "(8, \"Big Data\"), (8, \"artificial intelligence\"), (9, \"Hadoop\"),\n",
    "(9, \"Java\"), (9, \"MapReduce\"), (9, \"Big Data\")\n",
    "]"
   ]
  },
  {
   "cell_type": "code",
   "execution_count": 18,
   "id": "d9421921-1daa-4967-8929-151df6ff7061",
   "metadata": {},
   "outputs": [],
   "source": [
    "def data_scientists_who_like(target_interest):\n",
    " \"\"\"Find the ids of all users who like the target interest.\"\"\"\n",
    " return [user_id\n",
    "  for user_id, user_interest in interests\n",
    "  if user_interest == target_interest]"
   ]
  },
  {
   "cell_type": "code",
   "execution_count": 19,
   "id": "67e84101-8d72-4b22-96ea-861b730ac9b7",
   "metadata": {},
   "outputs": [],
   "source": [
    "from collections import defaultdict\n",
    "# Keys are interests, values are lists of user_ids with that interest\n",
    "user_ids_by_interest = defaultdict(list)\n",
    "for user_id, interest in interests:\n",
    " user_ids_by_interest[interest].append(user_id)"
   ]
  },
  {
   "cell_type": "code",
   "execution_count": 20,
   "id": "3de9deb6-ac74-4717-96f1-4a811da2fc44",
   "metadata": {},
   "outputs": [],
   "source": [
    "def most_common_interests_with(user):\n",
    " return Counter(\n",
    " interested_user_id\n",
    " for interest in interests_by_user_id[user[\"id\"]]\n",
    " for interested_user_id in user_ids_by_interest[interest]\n",
    " if interested_user_id != user[\"id\"]\n",
    ")"
   ]
  },
  {
   "cell_type": "code",
   "execution_count": 21,
   "id": "d37ace85-e875-48da-8569-163c4b71ab83",
   "metadata": {},
   "outputs": [],
   "source": [
    "salaries_and_tenures = [(83000, 8.7), (88000, 8.1),\n",
    "(48000, 0.7), (76000, 6),\n",
    "(69000, 6.5), (76000, 7.5),\n",
    "(60000, 2.5), (83000, 10),\n",
    "(48000, 1.9), (63000, 4.2)]"
   ]
  },
  {
   "cell_type": "code",
   "execution_count": 22,
   "id": "76599282-d0a4-4870-af31-7aff6a84643d",
   "metadata": {},
   "outputs": [],
   "source": [
    "# Keys are years, values are lists of the salaries for each tenure.\n",
    "salary_by_tenure = defaultdict(list)\n",
    "for salary, tenure in salaries_and_tenures:\n",
    " salary_by_tenure[tenure].append(salary)\n",
    "# Keys are years, each value is average salary for that tenure.\n",
    "average_salary_by_tenure = {\n",
    "tenure: sum(salaries) / len(salaries)\n",
    "for tenure, salaries in salary_by_tenure.items()\n",
    "}"
   ]
  },
  {
   "cell_type": "code",
   "execution_count": 23,
   "id": "303dea15-4d55-4f0b-a7c2-4fe971fe2ad8",
   "metadata": {},
   "outputs": [
    {
     "data": {
      "text/plain": [
       "{0.7: 48000.0,\n",
       " 1.9: 48000.0,\n",
       " 2.5: 60000.0,\n",
       " 4.2: 63000.0,\n",
       " 6: 76000.0,\n",
       " 6.5: 69000.0,\n",
       " 7.5: 76000.0,\n",
       " 8.1: 88000.0,\n",
       " 8.7: 83000.0,\n",
       " 10: 83000.0}"
      ]
     },
     "execution_count": 23,
     "metadata": {},
     "output_type": "execute_result"
    }
   ],
   "source": [
    "{0.7: 48000.0,\n",
    "1.9: 48000.0,\n",
    "2.5: 60000.0,\n",
    "4.2: 63000.0,\n",
    "6: 76000.0,\n",
    "6.5: 69000.0,\n",
    "7.5: 76000.0,\n",
    "8.1: 88000.0,\n",
    "8.7: 83000.0,\n",
    "10: 83000.0}"
   ]
  },
  {
   "cell_type": "code",
   "execution_count": 25,
   "id": "1ffc88b6-584f-4cf9-851a-46ba6b8f3b44",
   "metadata": {},
   "outputs": [],
   "source": [
    "def tenure_bucket(tenure):\n",
    " if tenure < 2:\n",
    "   return \"less than two\"\n",
    " elif tenure < 5:\n",
    "  return \"between two and five\"\n",
    " else:\n",
    "  return \"more than five\""
   ]
  },
  {
   "cell_type": "code",
   "execution_count": 26,
   "id": "08de1b70-0778-43db-9d38-96e5db2697cf",
   "metadata": {},
   "outputs": [],
   "source": [
    "salary_by_tenure_bucket = defaultdict(list)\n",
    "for salary, tenure in salaries_and_tenures:\n",
    " bucket = tenure_bucket(tenure)\n",
    " salary_by_tenure_bucket[bucket].append(salary)"
   ]
  },
  {
   "cell_type": "code",
   "execution_count": 27,
   "id": "65038742-3273-427a-9b95-037459b60ea4",
   "metadata": {},
   "outputs": [],
   "source": [
    "# Keys are tenure buckets, values are average salary for that bucket.\n",
    "average_salary_by_bucket = {\n",
    "tenure_bucket: sum(salaries) / len(salaries)\n",
    "for tenure_bucket, salaries in salary_by_tenure_bucket.items()\n",
    "}"
   ]
  },
  {
   "cell_type": "code",
   "execution_count": 28,
   "id": "2ee76f9e-07f4-4fc9-bae9-0cb803232ade",
   "metadata": {},
   "outputs": [
    {
     "data": {
      "text/plain": [
       "{'between two and five': 61500.0,\n",
       " 'less than two': 48000.0,\n",
       " 'more than five': 79166.66666666667}"
      ]
     },
     "execution_count": 28,
     "metadata": {},
     "output_type": "execute_result"
    }
   ],
   "source": [
    "{'between two and five': 61500.0,\n",
    "'less than two': 48000.0,\n",
    "'more than five': 79166.66666666667}"
   ]
  },
  {
   "cell_type": "code",
   "execution_count": 29,
   "id": "914518af-5720-4130-ad68-44251ba54a5f",
   "metadata": {},
   "outputs": [],
   "source": [
    "def predict_paid_or_unpaid(years_experience):\n",
    " if years_experience < 3.0:\n",
    "  return \"paid\"\n",
    " elif years_experience < 8.5:\n",
    "  return \"unpaid\"\n",
    " else:\n",
    "  return \"paid\""
   ]
  },
  {
   "cell_type": "code",
   "execution_count": 30,
   "id": "573eb1d6-8716-43b1-af29-b8878ac402c9",
   "metadata": {},
   "outputs": [],
   "source": [
    "interests = [\n",
    "(0, \"Hadoop\"), (0, \"Big Data\"), (0, \"HBase\"), (0, \"Java\"),\n",
    "(0, \"Spark\"), (0, \"Storm\"), (0, \"Cassandra\"),\n",
    "(1, \"NoSQL\"), (1, \"MongoDB\"), (1, \"Cassandra\"), (1, \"HBase\"),\n",
    "(1, \"Postgres\"), (2, \"Python\"), (2, \"scikit-learn\"), (2, \"scipy\"),\n",
    "(2, \"numpy\"), (2, \"statsmodels\"), (2, \"pandas\"), (3, \"R\"), (3, \"Python\"),\n",
    "(3, \"statistics\"), (3, \"regression\"), (3, \"probability\"),\n",
    "(4, \"machine learning\"), (4, \"regression\"), (4, \"decision trees\"),\n",
    "(4, \"libsvm\"), (5, \"Python\"), (5, \"R\"), (5, \"Java\"), (5, \"C++\"),\n",
    "(5, \"Haskell\"), (5, \"programming languages\"), (6, \"statistics\"),\n",
    "(6, \"probability\"), (6, \"mathematics\"), (6, \"theory\"),\n",
    "(7, \"machine learning\"), (7, \"scikit-learn\"), (7, \"Mahout\"),\n",
    "(7, \"neural networks\"), (8, \"neural networks\"), (8, \"deep learning\"),\n",
    "(8, \"Big Data\"), (8, \"artificial intelligence\"), (9, \"Hadoop\"),\n",
    "(9, \"Java\"), (9, \"MapReduce\"), (9, \"Big Data\")\n",
    "]"
   ]
  },
  {
   "cell_type": "code",
   "execution_count": 32,
   "id": "4db1c839-d724-4f64-bb61-43ba2a9b7e8a",
   "metadata": {},
   "outputs": [],
   "source": [
    "words_and_counts = Counter(word\n",
    "for user, interest in interests\n",
    "for word in interest.lower().split())"
   ]
  },
  {
   "cell_type": "code",
   "execution_count": 33,
   "id": "cba0375e-c39e-465e-ae73-e0fae28d5e08",
   "metadata": {},
   "outputs": [
    {
     "name": "stdout",
     "output_type": "stream",
     "text": [
      "big 3\n",
      "data 3\n",
      "java 3\n",
      "python 3\n",
      "learning 3\n",
      "hadoop 2\n",
      "hbase 2\n",
      "cassandra 2\n",
      "scikit-learn 2\n",
      "r 2\n",
      "statistics 2\n",
      "regression 2\n",
      "probability 2\n",
      "machine 2\n",
      "neural 2\n",
      "networks 2\n"
     ]
    }
   ],
   "source": [
    "for word, count in words_and_counts.most_common():\n",
    " if count > 1:\n",
    "  print(word, count)"
   ]
  }
 ],
 "metadata": {
  "kernelspec": {
   "display_name": "Python 3 (ipykernel)",
   "language": "python",
   "name": "python3"
  },
  "language_info": {
   "codemirror_mode": {
    "name": "ipython",
    "version": 3
   },
   "file_extension": ".py",
   "mimetype": "text/x-python",
   "name": "python",
   "nbconvert_exporter": "python",
   "pygments_lexer": "ipython3",
   "version": "3.13.5"
  }
 },
 "nbformat": 4,
 "nbformat_minor": 5
}
