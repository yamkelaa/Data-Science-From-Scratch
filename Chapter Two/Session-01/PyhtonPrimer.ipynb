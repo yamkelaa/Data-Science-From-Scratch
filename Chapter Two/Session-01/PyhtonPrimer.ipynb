{
 "cells": [
  {
   "cell_type": "code",
   "execution_count": 1,
   "id": "755e0212-8089-4738-9cb1-4d6c2a53ad81",
   "metadata": {},
   "outputs": [
    {
     "name": "stdout",
     "output_type": "stream",
     "text": [
      "The Zen of Python, by Tim Peters\n",
      "\n",
      "Beautiful is better than ugly.\n",
      "Explicit is better than implicit.\n",
      "Simple is better than complex.\n",
      "Complex is better than complicated.\n",
      "Flat is better than nested.\n",
      "Sparse is better than dense.\n",
      "Readability counts.\n",
      "Special cases aren't special enough to break the rules.\n",
      "Although practicality beats purity.\n",
      "Errors should never pass silently.\n",
      "Unless explicitly silenced.\n",
      "In the face of ambiguity, refuse the temptation to guess.\n",
      "There should be one-- and preferably only one --obvious way to do it.\n",
      "Although that way may not be obvious at first unless you're Dutch.\n",
      "Now is better than never.\n",
      "Although never is often better than *right* now.\n",
      "If the implementation is hard to explain, it's a bad idea.\n",
      "If the implementation is easy to explain, it may be a good idea.\n",
      "Namespaces are one honking great idea -- let's do more of those!\n"
     ]
    }
   ],
   "source": [
    "#this is how we would discover the zen of python\n",
    "#code that is written in this manner would be described as Pythonic\n",
    "import this"
   ]
  },
  {
   "cell_type": "code",
   "execution_count": null,
   "id": "60f020ec-f124-4cc0-bbb9-fbc6fd0c5374",
   "metadata": {},
   "outputs": [],
   "source": [
    "#Getting th Ananconda version of Python and running the code in a Virtual Environment would be most helpful\n",
    "#conda create -n environmentname python=3.6 would create a conda venv with python 3.6 installed\n",
    "#conda activate --environmentname would activate the environment\n",
    "#conda deactivate --environmentname would deactivate the environment\n",
    "#conda install --packageName would install x package on your machine\n",
    "#Theres also the traditional PIP that can be made use of as well"
   ]
  },
  {
   "cell_type": "code",
   "execution_count": 2,
   "id": "3c6bcf45-fb59-4565-b6c3-cef27021e81e",
   "metadata": {},
   "outputs": [
    {
     "name": "stdout",
     "output_type": "stream",
     "text": [
      "1\n",
      "1\n",
      "2\n",
      "2\n",
      "3\n",
      "3\n",
      "4\n",
      "4\n",
      "5\n",
      "5\n",
      "6\n",
      "1\n",
      "2\n",
      "1\n",
      "3\n",
      "2\n",
      "4\n",
      "3\n",
      "5\n",
      "4\n",
      "6\n",
      "5\n",
      "7\n",
      "2\n",
      "3\n",
      "1\n",
      "4\n",
      "2\n",
      "5\n",
      "3\n",
      "6\n",
      "4\n",
      "7\n",
      "5\n",
      "8\n",
      "3\n",
      "4\n",
      "1\n",
      "5\n",
      "2\n",
      "6\n",
      "3\n",
      "7\n",
      "4\n",
      "8\n",
      "5\n",
      "9\n",
      "4\n",
      "5\n",
      "1\n",
      "6\n",
      "2\n",
      "7\n",
      "3\n",
      "8\n",
      "4\n",
      "9\n",
      "5\n",
      "10\n",
      "5\n"
     ]
    }
   ],
   "source": [
    "#Pyhton makes use of indentation in order to delimit bloacks of code, not curly braces\n",
    "#Code is nicely formatted, but it is easier to make mistakes\n",
    "#tabs dont work for indentation in Python its purely spaces\n",
    "for i in [1,2,3,4,5]:\n",
    "    print(i) #part of the i loop\n",
    "    for j in [1,2,3,4,5]: #part of the i loop\n",
    "        print(j) #part of the i and j loop\n",
    "        print(i+j) #part of the i and j loop\n",
    "    print(i)#part of the i loop"
   ]
  },
  {
   "cell_type": "code",
   "execution_count": 3,
   "id": "54f73d3b-d7d4-4801-ad89-4a2c07a3abf9",
   "metadata": {},
   "outputs": [
    {
     "name": "stdout",
     "output_type": "stream",
     "text": [
      "21\n"
     ]
    }
   ],
   "source": [
    "#whitespace is ignored inside paranthesis as well as brackets, which is really good for long-winded operations\n",
    "long_winded_computation = (1 + 2 + 3 + 4\n",
    "                           +5 + 6)\n",
    "print(long_winded_computation)"
   ]
  },
  {
   "cell_type": "code",
   "execution_count": 5,
   "id": "b8e57c82-a0f2-49db-a4fd-cd23c26780fe",
   "metadata": {},
   "outputs": [
    {
     "name": "stdout",
     "output_type": "stream",
     "text": [
      "1\n",
      "2\n",
      "3\n",
      "4\n",
      "5\n",
      "6\n"
     ]
    }
   ],
   "source": [
    "#it can also make code easier to read \n",
    "list_of_lists = [[1,2,3],\n",
    "                [4,5,6]]\n",
    "for i in list_of_lists:\n",
    "    for j in i:\n",
    "        print(j)"
   ]
  },
  {
   "cell_type": "code",
   "execution_count": 6,
   "id": "f5ef7bbc-7693-4874-80d2-74e56e43aeac",
   "metadata": {},
   "outputs": [
    {
     "name": "stdout",
     "output_type": "stream",
     "text": [
      "5\n"
     ]
    }
   ],
   "source": [
    "#backslashes can also be made use of in order to indicate that a statement does move on to the next line - although this is rarely done\n",
    "two_plus_three = 2 + \\\n",
    "                 3\n",
    "print(two_plus_three)"
   ]
  },
  {
   "cell_type": "code",
   "execution_count": null,
   "id": "296d0c78-73b8-42fb-a091-30103524cd7d",
   "metadata": {},
   "outputs": [],
   "source": [
    "# Loop through numbers 1 to 5 and print each one\n",
    "for i in range(1, 6):\n",
    "    print(f\"Number {i}\")"
   ]
  },
  {
   "cell_type": "code",
   "execution_count": 9,
   "id": "39172e6e-c040-4b03-aeef-5e2494286eed",
   "metadata": {},
   "outputs": [
    {
     "name": "stdout",
     "output_type": "stream",
     "text": [
      "re.compile('[0-9]+', re.IGNORECASE)\n"
     ]
    }
   ],
   "source": [
    "import re \n",
    "my_regex = re.compile(\"[0-9]+\", re.I)\n",
    "print(my_regex)"
   ]
  },
  {
   "cell_type": "code",
   "execution_count": 10,
   "id": "04cfe83d-991b-479a-9e07-c4d6bcb6d93e",
   "metadata": {},
   "outputs": [
    {
     "name": "stdout",
     "output_type": "stream",
     "text": [
      "re.compile('[0-9]+', re.IGNORECASE)\n"
     ]
    }
   ],
   "source": [
    "#we can use aliases they are especially useful in cases where we already had for example a re in our code\n",
    "#This is also very helpful when our library name is complex -- such as the plotting library\n",
    "import re as regex\n",
    "my_regex = regex.compile(\"[0-9]+\", regex.I)\n",
    "print(my_regex)"
   ]
  },
  {
   "cell_type": "code",
   "execution_count": 12,
   "id": "5c8ed4c1-611e-40f4-82ab-46f22743a178",
   "metadata": {},
   "outputs": [
    {
     "name": "stdout",
     "output_type": "stream",
     "text": [
      "defaultdict(<class 'int'>, {})\n"
     ]
    }
   ],
   "source": [
    "#sometimes also you can import sepcific contents of a module as importing an entire module could redefine variables in your own code\n",
    "from collections import defaultdict, Counter\n",
    "lookup = defaultdict(int)\n",
    "print(lookup)"
   ]
  },
  {
   "cell_type": "code",
   "execution_count": 13,
   "id": "ad9a08e1-fd79-4977-a3d9-d4ea8a97e09f",
   "metadata": {},
   "outputs": [
    {
     "name": "stdout",
     "output_type": "stream",
     "text": [
      "<function match at 0x00000232C5CF0900>\n"
     ]
    }
   ],
   "source": [
    "match = 10\n",
    "from re import *\n",
    "print(match)"
   ]
  },
  {
   "cell_type": "code",
   "execution_count": 16,
   "id": "40cdd9fa-e7df-4d4a-9774-4b2251a5b4b8",
   "metadata": {},
   "outputs": [
    {
     "name": "stdout",
     "output_type": "stream",
     "text": [
      "4\n"
     ]
    }
   ],
   "source": [
    "def double(x):\n",
    " \"\"\"\n",
    " This is where we would document a function or describe what a function \n",
    " \"\"\"\n",
    " return x * 2\n",
    "print(double(2))"
   ]
  },
  {
   "cell_type": "code",
   "execution_count": 17,
   "id": "57365876-b256-488e-850e-0675b7be13c9",
   "metadata": {},
   "outputs": [
    {
     "name": "stdout",
     "output_type": "stream",
     "text": [
      "2\n"
     ]
    }
   ],
   "source": [
    "#functions in python are first class meaning we can assign them to variables and pass them into functions like any other argument\n",
    "def apply_to_one(f):\n",
    "    return f(1)\n",
    "print(apply_to_one(double))"
   ]
  }
 ],
 "metadata": {
  "kernelspec": {
   "display_name": "Python 3 (ipykernel)",
   "language": "python",
   "name": "python3"
  },
  "language_info": {
   "codemirror_mode": {
    "name": "ipython",
    "version": 3
   },
   "file_extension": ".py",
   "mimetype": "text/x-python",
   "name": "python",
   "nbconvert_exporter": "python",
   "pygments_lexer": "ipython3",
   "version": "3.13.5"
  }
 },
 "nbformat": 4,
 "nbformat_minor": 5
}
