{
 "cells": [
  {
   "cell_type": "code",
   "execution_count": 1,
   "id": "11f75ae3-c587-47ab-94ed-5e6868643aec",
   "metadata": {},
   "outputs": [],
   "source": [
    "#Coded manually by myself in order to get knowledge f some of the most important Python Concepts\n",
    "#conda create -n environmentName pythonVersion=versionNumber\n",
    "#conda activate environmentName \n",
    "#conda install libraryName will install an appropriate library"
   ]
  },
  {
   "cell_type": "code",
   "execution_count": 5,
   "id": "fd540f69-7c27-4879-948e-1b24df859b79",
   "metadata": {},
   "outputs": [
    {
     "name": "stdout",
     "output_type": "stream",
     "text": [
      "1\n",
      "1\n",
      "2\n",
      "1\n",
      "2\n",
      "3\n",
      "1\n",
      "3\n",
      "4\n",
      "1\n",
      "4\n",
      "5\n",
      "1\n",
      "5\n",
      "6\n",
      "1\n",
      "6\n",
      "7\n",
      "1\n",
      "2\n",
      "1\n",
      "3\n",
      "2\n",
      "2\n",
      "4\n",
      "2\n",
      "3\n",
      "5\n",
      "2\n",
      "4\n",
      "6\n",
      "2\n",
      "5\n",
      "7\n",
      "2\n",
      "6\n",
      "8\n",
      "2\n",
      "3\n",
      "1\n",
      "4\n",
      "3\n",
      "2\n",
      "5\n",
      "3\n",
      "3\n",
      "6\n",
      "3\n",
      "4\n",
      "7\n",
      "3\n",
      "5\n",
      "8\n",
      "3\n",
      "6\n",
      "9\n",
      "3\n",
      "4\n",
      "1\n",
      "5\n",
      "4\n",
      "2\n",
      "6\n",
      "4\n",
      "3\n",
      "7\n",
      "4\n",
      "4\n",
      "8\n",
      "4\n",
      "5\n",
      "9\n",
      "4\n",
      "6\n",
      "10\n",
      "4\n",
      "5\n",
      "1\n",
      "6\n",
      "5\n",
      "2\n",
      "7\n",
      "5\n",
      "3\n",
      "8\n",
      "5\n",
      "4\n",
      "9\n",
      "5\n",
      "5\n",
      "10\n",
      "5\n",
      "6\n",
      "11\n",
      "5\n",
      "6\n",
      "1\n",
      "7\n",
      "6\n",
      "2\n",
      "8\n",
      "6\n",
      "3\n",
      "9\n",
      "6\n",
      "4\n",
      "10\n",
      "6\n",
      "5\n",
      "11\n",
      "6\n",
      "6\n",
      "12\n",
      "6\n",
      "Done looping\n"
     ]
    }
   ],
   "source": [
    "#python makes use of indentation to mark off areas of code\n",
    "for i in [1,2,3,4,5,6]:\n",
    "    print(i)\n",
    "    for j in [1,2,3,4,5,6]:\n",
    "     print(j)\n",
    "     print(i+j)\n",
    "     print(i)\n",
    "print(\"Done looping\")\n",
    "#inner loop completes all iterations before outer loop operations commence"
   ]
  },
  {
   "cell_type": "code",
   "execution_count": 6,
   "id": "cc691c05-3815-4ca0-be9e-e84005af1edb",
   "metadata": {},
   "outputs": [
    {
     "name": "stdout",
     "output_type": "stream",
     "text": [
      "10\n"
     ]
    }
   ],
   "source": [
    "#You can configure your ediotr to use tabs as spaces\n",
    "#white spaces and tabs are ignored inside brackets\n",
    "long_winded_computation = (1 + 2 + 3\n",
    "                           + 4)\n",
    "print(long_winded_computation)"
   ]
  },
  {
   "cell_type": "code",
   "execution_count": 12,
   "id": "22543142-34d5-48e3-a49f-b9733489b860",
   "metadata": {},
   "outputs": [
    {
     "name": "stdout",
     "output_type": "stream",
     "text": [
      "1\n",
      "2\n",
      "3\n",
      "4\n",
      "5\n",
      "6\n",
      "7\n",
      "8\n",
      "9\n"
     ]
    }
   ],
   "source": [
    "#This is more readable \n",
    "list_of_lists = [\n",
    "    [1, 2, 3],\n",
    "    [4, 5, 6],\n",
    "    [7, 8, 9]\n",
    "]\n",
    "for i in list_of_lists:\n",
    "    for j in i:\n",
    "     print(j)"
   ]
  },
  {
   "cell_type": "code",
   "execution_count": null,
   "id": "c3d473ad-9d52-4742-9e0c-df08efcc728a",
   "metadata": {},
   "outputs": [],
   "source": [
    "#Backslash indicates that a statement starts on the next line\n",
    "two_plus_three = 2 + \\\n",
    "                 3\n",
    "print()"
   ]
  },
  {
   "cell_type": "code",
   "execution_count": 14,
   "id": "c6e44964-9aeb-41ad-af7d-9a0d6fc21362",
   "metadata": {},
   "outputs": [
    {
     "name": "stdout",
     "output_type": "stream",
     "text": [
      "re.compile('[0-9]+', re.IGNORECASE)\n"
     ]
    }
   ],
   "source": [
    "#Copying and pasting code is hard but IPython has a function to assist called %paste\n",
    "#one can import into their code and in order to access the module they should ensure that they actually go ahead and call the function\n",
    "import re as regex\n",
    "my_regex = regex.compile(\"[0-9]+\", regex.I)\n",
    "print(my_regex)"
   ]
  },
  {
   "cell_type": "code",
   "execution_count": 15,
   "id": "9782f978-4283-4fa5-93dc-08c3d1e218bf",
   "metadata": {},
   "outputs": [],
   "source": [
    "from collections import defaultdict, Counter #importing specific libraries and packages and using them without qualification\n",
    "lookup = defaultdict(int)\n",
    "my_counter = Counter ()"
   ]
  },
  {
   "cell_type": "code",
   "execution_count": 16,
   "id": "d1892c5e-ca30-4494-9dca-3b32a7e15c78",
   "metadata": {},
   "outputs": [
    {
     "name": "stdout",
     "output_type": "stream",
     "text": [
      "<function match at 0x0000023805CD0900>\n"
     ]
    }
   ],
   "source": [
    "match = 10\n",
    "from re import * \n",
    "print(match) #will print the match from the regex library as you imported everything"
   ]
  },
  {
   "cell_type": "code",
   "execution_count": 17,
   "id": "0ae4c137-4171-48db-afd4-90c826a86c4b",
   "metadata": {},
   "outputs": [
    {
     "name": "stdout",
     "output_type": "stream",
     "text": [
      "8\n"
     ]
    }
   ],
   "source": [
    "#A function takes 0 or 1 inputs and creates a corresponding output\n",
    "def double(x):\n",
    "    return x * 2\n",
    "my_number = double(4)\n",
    "print(my_number)"
   ]
  },
  {
   "cell_type": "code",
   "execution_count": 19,
   "id": "9436b4a6-a62d-4f11-a6fc-a49ec7746c08",
   "metadata": {},
   "outputs": [
    {
     "name": "stdout",
     "output_type": "stream",
     "text": [
      "6\n"
     ]
    }
   ],
   "source": [
    "#We can assign functions to variables as well in order to use them\n",
    "def apply_to_double(f, g):\n",
    "    return f(g)\n",
    "doubled_number = apply_to_double(double, 3)\n",
    "print(doubled_number)"
   ]
  },
  {
   "cell_type": "code",
   "execution_count": null,
   "id": "eff456c8-f7e5-448c-aeb6-ba4be633da18",
   "metadata": {},
   "outputs": [],
   "source": []
  }
 ],
 "metadata": {
  "kernelspec": {
   "display_name": "Python 3 (ipykernel)",
   "language": "python",
   "name": "python3"
  },
  "language_info": {
   "codemirror_mode": {
    "name": "ipython",
    "version": 3
   },
   "file_extension": ".py",
   "mimetype": "text/x-python",
   "name": "python",
   "nbconvert_exporter": "python",
   "pygments_lexer": "ipython3",
   "version": "3.13.5"
  }
 },
 "nbformat": 4,
 "nbformat_minor": 5
}
