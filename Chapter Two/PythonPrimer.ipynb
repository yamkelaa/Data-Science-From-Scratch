{
 "cells": [
  {
   "cell_type": "code",
   "execution_count": 1,
   "id": "11f75ae3-c587-47ab-94ed-5e6868643aec",
   "metadata": {},
   "outputs": [],
   "source": [
    "#Coded manually by myself in order to get knowledge of some of the most important Python Concepts\n",
    "#conda create -n environmentName pythonVersion=versionNumber\n",
    "#conda activate environmentName \n",
    "#conda install libraryName will install an appropriate library"
   ]
  },
  {
   "cell_type": "code",
   "execution_count": 2,
   "id": "fd540f69-7c27-4879-948e-1b24df859b79",
   "metadata": {},
   "outputs": [
    {
     "name": "stdout",
     "output_type": "stream",
     "text": [
      "1\n",
      "1\n",
      "2\n",
      "1\n",
      "2\n",
      "3\n",
      "1\n",
      "3\n",
      "4\n",
      "1\n",
      "4\n",
      "5\n",
      "1\n",
      "5\n",
      "6\n",
      "1\n",
      "6\n",
      "7\n",
      "1\n",
      "2\n",
      "1\n",
      "3\n",
      "2\n",
      "2\n",
      "4\n",
      "2\n",
      "3\n",
      "5\n",
      "2\n",
      "4\n",
      "6\n",
      "2\n",
      "5\n",
      "7\n",
      "2\n",
      "6\n",
      "8\n",
      "2\n",
      "3\n",
      "1\n",
      "4\n",
      "3\n",
      "2\n",
      "5\n",
      "3\n",
      "3\n",
      "6\n",
      "3\n",
      "4\n",
      "7\n",
      "3\n",
      "5\n",
      "8\n",
      "3\n",
      "6\n",
      "9\n",
      "3\n",
      "4\n",
      "1\n",
      "5\n",
      "4\n",
      "2\n",
      "6\n",
      "4\n",
      "3\n",
      "7\n",
      "4\n",
      "4\n",
      "8\n",
      "4\n",
      "5\n",
      "9\n",
      "4\n",
      "6\n",
      "10\n",
      "4\n",
      "5\n",
      "1\n",
      "6\n",
      "5\n",
      "2\n",
      "7\n",
      "5\n",
      "3\n",
      "8\n",
      "5\n",
      "4\n",
      "9\n",
      "5\n",
      "5\n",
      "10\n",
      "5\n",
      "6\n",
      "11\n",
      "5\n",
      "6\n",
      "1\n",
      "7\n",
      "6\n",
      "2\n",
      "8\n",
      "6\n",
      "3\n",
      "9\n",
      "6\n",
      "4\n",
      "10\n",
      "6\n",
      "5\n",
      "11\n",
      "6\n",
      "6\n",
      "12\n",
      "6\n",
      "Done looping\n"
     ]
    }
   ],
   "source": [
    "#python makes use of indentation to mark off areas of code\n",
    "for i in [1,2,3,4,5,6]:\n",
    "    print(i)\n",
    "    for j in [1,2,3,4,5,6]:\n",
    "     print(j)\n",
    "     print(i+j)\n",
    "     print(i)\n",
    "print(\"Done looping\")\n",
    "#inner loop completes all iterations before outer loop operations commence"
   ]
  },
  {
   "cell_type": "code",
   "execution_count": 3,
   "id": "cc691c05-3815-4ca0-be9e-e84005af1edb",
   "metadata": {},
   "outputs": [
    {
     "name": "stdout",
     "output_type": "stream",
     "text": [
      "10\n"
     ]
    }
   ],
   "source": [
    "#You can configure your ediotr to use tabs as spaces\n",
    "#white spaces and tabs are ignored inside brackets\n",
    "long_winded_computation = (1 + 2 + 3\n",
    "                           + 4)\n",
    "print(long_winded_computation)"
   ]
  },
  {
   "cell_type": "code",
   "execution_count": 4,
   "id": "22543142-34d5-48e3-a49f-b9733489b860",
   "metadata": {},
   "outputs": [
    {
     "name": "stdout",
     "output_type": "stream",
     "text": [
      "1\n",
      "2\n",
      "3\n",
      "4\n",
      "5\n",
      "6\n",
      "7\n",
      "8\n",
      "9\n"
     ]
    }
   ],
   "source": [
    "#This is more readable \n",
    "list_of_lists = [\n",
    "    [1, 2, 3],\n",
    "    [4, 5, 6],\n",
    "    [7, 8, 9]\n",
    "]\n",
    "for i in list_of_lists:\n",
    "    for j in i:\n",
    "     print(j)"
   ]
  },
  {
   "cell_type": "code",
   "execution_count": 5,
   "id": "c3d473ad-9d52-4742-9e0c-df08efcc728a",
   "metadata": {},
   "outputs": [
    {
     "name": "stdout",
     "output_type": "stream",
     "text": [
      "\n"
     ]
    }
   ],
   "source": [
    "#Backslash indicates that a statement starts on the next line\n",
    "two_plus_three = 2 + \\\n",
    "                 3\n",
    "print()"
   ]
  },
  {
   "cell_type": "code",
   "execution_count": 6,
   "id": "c6e44964-9aeb-41ad-af7d-9a0d6fc21362",
   "metadata": {},
   "outputs": [
    {
     "name": "stdout",
     "output_type": "stream",
     "text": [
      "re.compile('[0-9]+', re.IGNORECASE)\n"
     ]
    }
   ],
   "source": [
    "#Copying and pasting code is hard but IPython has a function to assist called %paste\n",
    "#one can import into their code and in order to access the module they should ensure that they actually go ahead and call the function\n",
    "import re as regex\n",
    "my_regex = regex.compile(\"[0-9]+\", regex.I)\n",
    "print(my_regex)"
   ]
  },
  {
   "cell_type": "code",
   "execution_count": 7,
   "id": "9782f978-4283-4fa5-93dc-08c3d1e218bf",
   "metadata": {},
   "outputs": [],
   "source": [
    "from collections import defaultdict, Counter #importing specific libraries and packages and using them without qualification\n",
    "lookup = defaultdict(int)\n",
    "my_counter = Counter ()"
   ]
  },
  {
   "cell_type": "code",
   "execution_count": 8,
   "id": "d1892c5e-ca30-4494-9dca-3b32a7e15c78",
   "metadata": {},
   "outputs": [
    {
     "name": "stdout",
     "output_type": "stream",
     "text": [
      "<function match at 0x000001DCB0530900>\n"
     ]
    }
   ],
   "source": [
    "match = 10\n",
    "from re import * \n",
    "print(match) #will print the match from the regex library as you imported everything"
   ]
  },
  {
   "cell_type": "code",
   "execution_count": 9,
   "id": "0ae4c137-4171-48db-afd4-90c826a86c4b",
   "metadata": {},
   "outputs": [
    {
     "name": "stdout",
     "output_type": "stream",
     "text": [
      "8\n"
     ]
    }
   ],
   "source": [
    "#A function takes 0 or 1 inputs and creates a corresponding output\n",
    "def double(x):\n",
    "    return x * 2\n",
    "my_number = double(4)\n",
    "print(my_number)"
   ]
  },
  {
   "cell_type": "code",
   "execution_count": 10,
   "id": "9436b4a6-a62d-4f11-a6fc-a49ec7746c08",
   "metadata": {},
   "outputs": [
    {
     "name": "stdout",
     "output_type": "stream",
     "text": [
      "6\n"
     ]
    }
   ],
   "source": [
    "#We can assign functions to variables as well in order to use them\n",
    "def apply_to_double(f, g):\n",
    "    return f(g)\n",
    "doubled_number = apply_to_double(double, 3)\n",
    "print(doubled_number)"
   ]
  },
  {
   "cell_type": "code",
   "execution_count": 11,
   "id": "eff456c8-f7e5-448c-aeb6-ba4be633da18",
   "metadata": {},
   "outputs": [
    {
     "name": "stdout",
     "output_type": "stream",
     "text": [
      "2\n"
     ]
    }
   ],
   "source": [
    "def apply_to_one(f):\n",
    "    return f(1)\n",
    "print(apply_to_one(double))"
   ]
  },
  {
   "cell_type": "code",
   "execution_count": 12,
   "id": "fe146e78-f545-4d7c-bfb2-feee0c302804",
   "metadata": {},
   "outputs": [
    {
     "name": "stdout",
     "output_type": "stream",
     "text": [
      "5\n"
     ]
    }
   ],
   "source": [
    "y = apply_to_one(lambda x : x + 4)\n",
    "print(y)"
   ]
  },
  {
   "cell_type": "code",
   "execution_count": 13,
   "id": "91ea8679-503b-41e9-9413-ace260411e8a",
   "metadata": {},
   "outputs": [
    {
     "name": "stdout",
     "output_type": "stream",
     "text": [
      "10\n"
     ]
    }
   ],
   "source": [
    "def another_double(x):\n",
    " return 2 * x\n",
    "\n",
    "number = another_double(5)\n",
    "print(number)"
   ]
  },
  {
   "cell_type": "code",
   "execution_count": 14,
   "id": "cbc3b2d3-afd5-41cb-918b-77cdd9bc8106",
   "metadata": {},
   "outputs": [
    {
     "name": "stdout",
     "output_type": "stream",
     "text": [
      "I willl be great\n",
      "I will be great\n"
     ]
    }
   ],
   "source": [
    "def my_message(x = \"I will be great\"):\n",
    "    print(x)\n",
    "my_message(\"I willl be great\") \n",
    "my_message()"
   ]
  },
  {
   "cell_type": "code",
   "execution_count": 15,
   "id": "c5d5df17-fed4-4e9e-8fbd-4230505d6389",
   "metadata": {},
   "outputs": [
    {
     "name": "stdout",
     "output_type": "stream",
     "text": [
      "Yamkela Qhogwana\n",
      "Yamkela Something\n",
      "Whats his name Qhogwana\n"
     ]
    }
   ],
   "source": [
    "#Functions can also be defined by name\n",
    "def full_name(name = \"Whats his name\", surname = \"Something\"):\n",
    "    print(name + \" \" + surname)\n",
    "full_name(\"Yamkela\", \"Qhogwana\")\n",
    "full_name(\"Yamkela\")\n",
    "full_name(surname = \"Qhogwana\")"
   ]
  },
  {
   "cell_type": "code",
   "execution_count": 16,
   "id": "863420bc-e970-476d-8434-748aaa3906fe",
   "metadata": {},
   "outputs": [
    {
     "name": "stdout",
     "output_type": "stream",
     "text": [
      "data science\n",
      "data science\n"
     ]
    }
   ],
   "source": [
    "#string can use single or double quotes\n",
    "single_quoted_string = 'data science'\n",
    "double_quoted_string = \"data science\"\n",
    "print(single_quoted_string)\n",
    "print(double_quoted_string)"
   ]
  },
  {
   "cell_type": "code",
   "execution_count": 17,
   "id": "79cc7ce6-f63b-4467-a463-ba1231c1f0f3",
   "metadata": {},
   "outputs": [
    {
     "name": "stdout",
     "output_type": "stream",
     "text": [
      "\tHello\n"
     ]
    }
   ],
   "source": [
    "#special tab\n",
    "tab_string = \"\\t\"\n",
    "print(tab_string + \"Hello\")"
   ]
  },
  {
   "cell_type": "code",
   "execution_count": 18,
   "id": "2c600280-3d61-43e0-a0da-493eae556213",
   "metadata": {},
   "outputs": [
    {
     "name": "stdout",
     "output_type": "stream",
     "text": [
      "\\t\n"
     ]
    }
   ],
   "source": [
    "#remove the tab\n",
    "not_tab_string = r\"\\t\"\n",
    "print(not_tab_string)"
   ]
  },
  {
   "cell_type": "code",
   "execution_count": 19,
   "id": "6abca6b3-22d1-4f5e-80c4-756e36d3fc89",
   "metadata": {},
   "outputs": [
    {
     "name": "stdout",
     "output_type": "stream",
     "text": [
      "\n",
      "Hello\n",
      "Hi\n",
      "Sawubona\n",
      "\n"
     ]
    }
   ],
   "source": [
    "multi_line_string = \"\"\"\n",
    "Hello\n",
    "Hi\n",
    "Sawubona\n",
    "\"\"\"\n",
    "print(multi_line_string)"
   ]
  },
  {
   "cell_type": "code",
   "execution_count": 20,
   "id": "28680659-27c5-4659-ab52-942b7996f50f",
   "metadata": {},
   "outputs": [],
   "source": [
    "#we can combine multiple string into one string\n",
    "first_name = \"Joel\"\n",
    "last_name = \"Grus\"\n",
    "full_name = first_name + \" \" + last_name\n",
    "full_name_2 = \"{0} {1}\".format(first_name, last_name)"
   ]
  },
  {
   "cell_type": "code",
   "execution_count": 21,
   "id": "88b0dcba-716b-42a4-a906-0d8097deb414",
   "metadata": {},
   "outputs": [
    {
     "name": "stdout",
     "output_type": "stream",
     "text": [
      "Joel Grus\n",
      "Joel Grus\n"
     ]
    }
   ],
   "source": [
    "print(full_name)\n",
    "print(full_name_2)"
   ]
  },
  {
   "cell_type": "code",
   "execution_count": 22,
   "id": "de05e235-a9e8-4a27-9efc-891cddc6d962",
   "metadata": {},
   "outputs": [
    {
     "name": "stdout",
     "output_type": "stream",
     "text": [
      "Joel Grus\n"
     ]
    }
   ],
   "source": [
    "full_name_3 = f\"{first_name} {last_name}\"\n",
    "print(full_name_3)"
   ]
  },
  {
   "cell_type": "code",
   "execution_count": 23,
   "id": "aeb6992b-e312-444f-9351-dfe9904012fa",
   "metadata": {},
   "outputs": [
    {
     "name": "stdout",
     "output_type": "stream",
     "text": [
      "You cannot divide by zero\n"
     ]
    }
   ],
   "source": [
    "#This is not bad and it makes the code look cleaner\n",
    "try:\n",
    "    print(0/0)\n",
    "except ZeroDivisionError:\n",
    "    print(\"You cannot divide by zero\")"
   ]
  },
  {
   "cell_type": "code",
   "execution_count": 24,
   "id": "d4ea0d32-1de7-477d-ba76-7338df49a228",
   "metadata": {},
   "outputs": [
    {
     "name": "stdout",
     "output_type": "stream",
     "text": [
      "4\n",
      "10\n"
     ]
    }
   ],
   "source": [
    "#Lists in Python\n",
    "#lists in python are simply unordered collections - like an Array but with some added functionality\n",
    "integer_list = [1,2,3,4]\n",
    "heterogenous_list = [\"string\", 0.1, True]\n",
    "list_of_lists = [integer_list, heterogenous_list, []]\n",
    "\n",
    "list_len = len(integer_list)\n",
    "list_sum = sum(integer_list)\n",
    "print(list_len)\n",
    "print(list_sum)"
   ]
  },
  {
   "cell_type": "code",
   "execution_count": 25,
   "id": "c8da2b0a-a185-4f6a-979e-55e3b2e8692b",
   "metadata": {},
   "outputs": [
    {
     "name": "stdout",
     "output_type": "stream",
     "text": [
      "True\n"
     ]
    }
   ],
   "source": [
    "print(heterogenous_list[2])"
   ]
  },
  {
   "cell_type": "code",
   "execution_count": 26,
   "id": "cbe0c093-64af-44ce-b89e-7a99be83bf4a",
   "metadata": {},
   "outputs": [
    {
     "name": "stdout",
     "output_type": "stream",
     "text": [
      "4\n"
     ]
    }
   ],
   "source": [
    "#Theres a way to print the last and second last element in a list \n",
    "print(integer_list[-1])"
   ]
  },
  {
   "cell_type": "code",
   "execution_count": 27,
   "id": "ec2737a4-920a-4609-9fff-441c2d21f655",
   "metadata": {},
   "outputs": [
    {
     "name": "stdout",
     "output_type": "stream",
     "text": [
      "3\n"
     ]
    }
   ],
   "source": [
    "print(integer_list[-2])"
   ]
  },
  {
   "cell_type": "code",
   "execution_count": 28,
   "id": "ab21b699-5a54-4d70-9272-425cccde5c3f",
   "metadata": {},
   "outputs": [
    {
     "name": "stdout",
     "output_type": "stream",
     "text": [
      "[1, 2, 3]\n"
     ]
    }
   ],
   "source": [
    "#print from index 0 to 2\n",
    "first_three = integer_list[:3]\n",
    "print(first_three)"
   ]
  },
  {
   "cell_type": "code",
   "execution_count": 29,
   "id": "b1b74e60-ae81-4d9d-97df-ceb9deef28da",
   "metadata": {},
   "outputs": [
    {
     "name": "stdout",
     "output_type": "stream",
     "text": [
      "[4]\n"
     ]
    }
   ],
   "source": [
    "#frrom the fourth index(incuded)\n",
    "#left side of the colon is included\n",
    "print(integer_list[3:])"
   ]
  },
  {
   "cell_type": "code",
   "execution_count": 30,
   "id": "8e11484d-a70d-4389-8a7d-df263bc7f561",
   "metadata": {},
   "outputs": [
    {
     "name": "stdout",
     "output_type": "stream",
     "text": [
      "[5, 4, 3]\n"
     ]
    }
   ],
   "source": [
    "#slices can also take strides\n",
    "x = [0,1,2,3,4,5,6,7,8,9]\n",
    "print(x[5:2:-1])"
   ]
  },
  {
   "cell_type": "code",
   "execution_count": 31,
   "id": "b313891d-6b96-4b07-8d98-939d334d7d78",
   "metadata": {},
   "outputs": [
    {
     "name": "stdout",
     "output_type": "stream",
     "text": [
      "[0, 3, 6, 9]\n"
     ]
    }
   ],
   "source": [
    "print(x[::3])"
   ]
  },
  {
   "cell_type": "code",
   "execution_count": 32,
   "id": "3d29e083-29e7-4457-8fa2-51b32883fb37",
   "metadata": {},
   "outputs": [
    {
     "name": "stdout",
     "output_type": "stream",
     "text": [
      "True\n"
     ]
    }
   ],
   "source": [
    "#python has an in operator that checks for memberships\n",
    "print(1 in x)"
   ]
  },
  {
   "cell_type": "code",
   "execution_count": 33,
   "id": "1fa9859b-bc01-42ad-a725-e70113cc50bf",
   "metadata": {},
   "outputs": [
    {
     "name": "stdout",
     "output_type": "stream",
     "text": [
      "1\n",
      "2\n",
      "3\n",
      "4\n",
      "5\n",
      "6\n",
      "7\n"
     ]
    }
   ],
   "source": [
    "a = [1,2,3,4]\n",
    "a.extend([5,6,7])\n",
    "for c in a:\n",
    "    print(c)"
   ]
  },
  {
   "cell_type": "code",
   "execution_count": 34,
   "id": "2f521073-9fb2-4815-a885-ec573efd51c7",
   "metadata": {},
   "outputs": [
    {
     "name": "stdout",
     "output_type": "stream",
     "text": [
      "1\n",
      "2\n",
      "3\n",
      "4\n",
      "5\n",
      "6\n",
      "7\n",
      "8\n",
      "9\n"
     ]
    }
   ],
   "source": [
    "#extend without modification\n",
    "a = [1,2,3,4,5]\n",
    "b = a + [6,7,8,9]\n",
    "for c in b:\n",
    "    print(c)"
   ]
  },
  {
   "cell_type": "code",
   "execution_count": 35,
   "id": "e9923bdc-d73e-4417-934d-e23e97f7bcb2",
   "metadata": {},
   "outputs": [
    {
     "name": "stdout",
     "output_type": "stream",
     "text": [
      "0\n"
     ]
    }
   ],
   "source": [
    "b.append(0)\n",
    "print(b[-1])"
   ]
  },
  {
   "cell_type": "code",
   "execution_count": 36,
   "id": "77b25e7c-d95a-4f85-ab46-7131ba9bf3b4",
   "metadata": {},
   "outputs": [
    {
     "name": "stdout",
     "output_type": "stream",
     "text": [
      "1\n",
      "1\n"
     ]
    }
   ],
   "source": [
    "x,y = [1,1]\n",
    "print(x)\n",
    "print(y)"
   ]
  },
  {
   "cell_type": "code",
   "execution_count": 37,
   "id": "f59d4dd2-d91e-490c-bb89-679a0080dae1",
   "metadata": {},
   "outputs": [
    {
     "name": "stdout",
     "output_type": "stream",
     "text": [
      "3\n"
     ]
    }
   ],
   "source": [
    "_, y = [1,3]\n",
    "print(3)"
   ]
  },
  {
   "cell_type": "code",
   "execution_count": 41,
   "id": "7e3ad3f7-418e-40a7-b6a4-eecdb3e8d458",
   "metadata": {},
   "outputs": [
    {
     "name": "stdout",
     "output_type": "stream",
     "text": [
      "1\n",
      "2\n",
      "3\n",
      "4\n"
     ]
    }
   ],
   "source": [
    "#tuple is the immutable cousin of a list\n",
    "#list makes use of square and tuple mkaes use of circular brackets or nothing \n",
    "my_tuple = (1,2)\n",
    "my_tuple_2 = 3,4\n",
    "for i in my_tuple:\n",
    " print(i)\n",
    "for i in my_tuple_2:\n",
    "    print(i)"
   ]
  },
  {
   "cell_type": "code",
   "execution_count": 43,
   "id": "37b927f2-da69-4c1c-bced-04522821e3d0",
   "metadata": {},
   "outputs": [
    {
     "name": "stdout",
     "output_type": "stream",
     "text": [
      "You cannot modify a tuple\n"
     ]
    }
   ],
   "source": [
    "try:\n",
    "    my_tuple[0] = 0\n",
    "except TypeError:\n",
    "    print(\"You cannot modify a tuple\")"
   ]
  },
  {
   "cell_type": "code",
   "execution_count": 44,
   "id": "bd01f0d6-e589-4038-977b-5bac919fb778",
   "metadata": {},
   "outputs": [
    {
     "name": "stdout",
     "output_type": "stream",
     "text": [
      "7\n",
      "12\n"
     ]
    }
   ],
   "source": [
    "#we can make use of tuples in order to return multiple values from our functions\n",
    "def sum_and_product(x, y):\n",
    "    return (x+y), (x*y)\n",
    "my_other_tuple = sum_and_product(3,4)\n",
    "for i in my_other_tuple:\n",
    "    print(i)"
   ]
  },
  {
   "cell_type": "code",
   "execution_count": 45,
   "id": "b86c21f3-0fbd-402e-83f4-b3387f73a608",
   "metadata": {},
   "outputs": [
    {
     "name": "stdout",
     "output_type": "stream",
     "text": [
      "2\n",
      "1\n"
     ]
    }
   ],
   "source": [
    "#Tuples can assit us with variable swapping\n",
    "x, y = 1, 2\n",
    "x, y = y ,x\n",
    "print(x)\n",
    "print (y)"
   ]
  },
  {
   "cell_type": "code",
   "execution_count": 46,
   "id": "9ca40ae5-5015-4950-8a57-e99298515187",
   "metadata": {},
   "outputs": [
    {
     "name": "stdout",
     "output_type": "stream",
     "text": [
      "80\n"
     ]
    }
   ],
   "source": [
    "#Dictionaires are another structure and they work with key value pairs\n",
    "empty_dict = {}\n",
    "empty_dict2 = dict() #less pythonic\n",
    "grades = {\"Joel\" : 80, \"Tim\" : 95}\n",
    "print(grades[\"Joel\"])"
   ]
  },
  {
   "cell_type": "code",
   "execution_count": 47,
   "id": "e39f210a-c8f7-408d-b2ac-247569ad3bcd",
   "metadata": {},
   "outputs": [
    {
     "name": "stdout",
     "output_type": "stream",
     "text": [
      "No Kate with grade\n"
     ]
    }
   ],
   "source": [
    "try:\n",
    "    print(grades[\"Kate\"])\n",
    "except KeyError:\n",
    "    print(\"No grade for Kate\")"
   ]
  },
  {
   "cell_type": "code",
   "execution_count": 50,
   "id": "d5fea7fe-f4f0-4c0d-9a65-18e2e06d7a8d",
   "metadata": {},
   "outputs": [
    {
     "name": "stdout",
     "output_type": "stream",
     "text": [
      "False\n",
      "True\n"
     ]
    }
   ],
   "source": [
    "kate_grade = \"Kate\" in grades\n",
    "print(kate_grade)\n",
    "joel_grade = \"Joel\" in grades\n",
    "print(joel_grade) # very fast even in large dictionaries"
   ]
  },
  {
   "cell_type": "code",
   "execution_count": 54,
   "id": "1623a66e-d617-4670-a68b-2a0facdcee65",
   "metadata": {},
   "outputs": [
    {
     "name": "stdout",
     "output_type": "stream",
     "text": [
      "0\n"
     ]
    }
   ],
   "source": [
    "kate_grade = grades.get(\"Kate\", 0) #will return either the grade or 0\n",
    "nobody_grade = grades.get(\"Kate has no grade\")\n",
    "print (kate_grade)"
   ]
  },
  {
   "cell_type": "code",
   "execution_count": 55,
   "id": "59311c4b-846b-4fc8-9cad-b0407786f62b",
   "metadata": {},
   "outputs": [],
   "source": [
    "#dictonaries may be described as an object of some sorts:\n",
    "tweet = {\n",
    "\"user\" : \"joelgrus\",\n",
    "\"text\" : \"Data Science is Awesome\",\n",
    "\"retweet_count\" : 100,\n",
    "\"hashtags\" : [\"#data\", \"#science\", \"#datascience\", \"#awesome\", \"#yolo\"]\n",
    "}"
   ]
  },
  {
   "cell_type": "code",
   "execution_count": 61,
   "id": "ecde76b3-5431-4a76-b9ea-60a980a70715",
   "metadata": {},
   "outputs": [
    {
     "name": "stdout",
     "output_type": "stream",
     "text": [
      "dict_keys(['user', 'text', 'retweet_count', 'hashtags'])\n",
      "dict_values(['joelgrus', 'Data Science is Awesome', 100, ['#data', '#science', '#datascience', '#awesome', '#yolo']])\n",
      "dict_items([('user', 'joelgrus'), ('text', 'Data Science is Awesome'), ('retweet_count', 100), ('hashtags', ['#data', '#science', '#datascience', '#awesome', '#yolo'])])\n"
     ]
    }
   ],
   "source": [
    "tweet_keys = tweet.keys()\n",
    "print(tweet_keys)\n",
    "tweet_values = tweet.values()\n",
    "print(tweet_values)\n",
    "tweet_items = tweet.items()\n",
    "print(tweet_items)"
   ]
  },
  {
   "cell_type": "code",
   "execution_count": 62,
   "id": "28bd2ebe-a9d3-4f03-99fa-2aef636c32e8",
   "metadata": {},
   "outputs": [
    {
     "name": "stdout",
     "output_type": "stream",
     "text": [
      "True\n"
     ]
    }
   ],
   "source": [
    "print(\"user\" in tweet)"
   ]
  },
  {
   "cell_type": "code",
   "execution_count": 64,
   "id": "4e580687-07b0-4b86-9a74-ad2212460b3a",
   "metadata": {},
   "outputs": [
    {
     "name": "stdout",
     "output_type": "stream",
     "text": [
      "True\n"
     ]
    }
   ],
   "source": [
    "print(\"joelgrus\" in tweet_values) # the only way to look however it is slower\n",
    "#One cannot use a list as a key - if we need a multipart key we can try a tuple or make the key a string"
   ]
  },
  {
   "cell_type": "code",
   "execution_count": 72,
   "id": "552f4103-9a52-4f87-91b2-8e4568d155ff",
   "metadata": {},
   "outputs": [
    {
     "name": "stdout",
     "output_type": "stream",
     "text": [
      "Yamkela\n",
      "Not Found\n",
      "Unknown\n"
     ]
    }
   ],
   "source": [
    "#default dict handles looking for a key that does not exist more gracefully\n",
    "#one would import defaultdict from the collection library\n",
    "from collections import defaultdict\n",
    "\n",
    "def default_message():\n",
    "    return \"Not Found\"\n",
    "\n",
    "d = defaultdict(default_message)\n",
    "d['name'] = 'Yamkela'\n",
    "\n",
    "print(d['name'])   # Yamkela\n",
    "print(d['age'])    # Not Found\n",
    "\n",
    "from collections import defaultdict\n",
    "\n",
    "d = defaultdict(lambda: \"Unknown\")\n",
    "print(d['city'])  # Unknown\n"
   ]
  },
  {
   "cell_type": "code",
   "execution_count": 74,
   "id": "d31440bf-5230-4dab-9bcf-102f66b29404",
   "metadata": {},
   "outputs": [
    {
     "name": "stdout",
     "output_type": "stream",
     "text": [
      "[('scary', 2)]\n"
     ]
    }
   ],
   "source": [
    "document = [\"The\", \"scary\", \"fox\", \"is\", \"so\", \"scary\"]\n",
    "from collections import Counter\n",
    "c = Counter([0,1,2,3]) #c is {0 : 1, 1 :1, 2:1, 3:1} - counts the number of times a word appears\n",
    "words = Counter(document)\n",
    "print(words.most_common(1)) #print the word that appears the most"
   ]
  },
  {
   "cell_type": "code",
   "execution_count": 76,
   "id": "29cc1ab3-df22-4150-83d0-28e404dbece6",
   "metadata": {},
   "outputs": [
    {
     "name": "stdout",
     "output_type": "stream",
     "text": [
      "scary 2\n",
      "The 1\n"
     ]
    }
   ],
   "source": [
    "for word, count in words.most_common(2):\n",
    "    print(word, count) # printing 2 most common words"
   ]
  },
  {
   "cell_type": "code",
   "execution_count": null,
   "id": "d4cab156-99f3-4aa3-8654-153dedb94e1f",
   "metadata": {},
   "outputs": [],
   "source": []
  }
 ],
 "metadata": {
  "kernelspec": {
   "display_name": "Python 3 (ipykernel)",
   "language": "python",
   "name": "python3"
  },
  "language_info": {
   "codemirror_mode": {
    "name": "ipython",
    "version": 3
   },
   "file_extension": ".py",
   "mimetype": "text/x-python",
   "name": "python",
   "nbconvert_exporter": "python",
   "pygments_lexer": "ipython3",
   "version": "3.13.5"
  }
 },
 "nbformat": 4,
 "nbformat_minor": 5
}
