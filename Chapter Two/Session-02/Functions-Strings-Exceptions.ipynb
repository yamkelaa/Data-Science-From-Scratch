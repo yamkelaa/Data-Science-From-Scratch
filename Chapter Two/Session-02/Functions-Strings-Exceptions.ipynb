{
 "cells": [
  {
   "cell_type": "code",
   "execution_count": 2,
   "id": "d1bc5d04-6a66-418d-8a20-463f794a17fa",
   "metadata": {},
   "outputs": [
    {
     "name": "stdout",
     "output_type": "stream",
     "text": [
      "2\n"
     ]
    }
   ],
   "source": [
    "#Revision from Session 1\n",
    "#Python functions being first class\n",
    "def double(x):\n",
    "    return x * 2\n",
    "def apply_to_one(f):\n",
    "    return f(1)\n",
    "print(apply_to_one(double))"
   ]
  },
  {
   "cell_type": "code",
   "execution_count": 4,
   "id": "62bd85bb-8c2c-43db-996d-6a22ac71d72d",
   "metadata": {},
   "outputs": [
    {
     "name": "stdout",
     "output_type": "stream",
     "text": [
      "5\n"
     ]
    }
   ],
   "source": [
    "y = apply_to_one(lambda x: x + 4)\n",
    "print(y)"
   ]
  },
  {
   "cell_type": "code",
   "execution_count": 5,
   "id": "0709e568-81ee-4813-ad51-f43c8816e134",
   "metadata": {},
   "outputs": [
    {
     "name": "stdout",
     "output_type": "stream",
     "text": [
      "4\n"
     ]
    }
   ],
   "source": [
    "# we can assign lamdas to functions although this would not be advisable, we can rather make use of the def keyword\n",
    "another_double = lambda x : x + 2\n",
    "print(another_double(2))"
   ]
  },
  {
   "cell_type": "code",
   "execution_count": 7,
   "id": "9bf58fdd-70ff-4671-9978-de3cb5f6bc1d",
   "metadata": {},
   "outputs": [
    {
     "name": "stdout",
     "output_type": "stream",
     "text": [
      "hello\n"
     ]
    }
   ],
   "source": [
    "#functions can be given default values which we can assign by name \n",
    "def print_message(message = \"hello\"):\n",
    "    print(message)\n",
    "print_message()"
   ]
  },
  {
   "cell_type": "code",
   "execution_count": 8,
   "id": "83ab61d6-344c-4243-bc5d-6fb9260b26e0",
   "metadata": {},
   "outputs": [
    {
     "name": "stdout",
     "output_type": "stream",
     "text": [
      "How are you\n"
     ]
    }
   ],
   "source": [
    "print_message(\"How are you\")"
   ]
  },
  {
   "cell_type": "code",
   "execution_count": 9,
   "id": "4a1d85da-c161-40fc-bcb4-22ff5d29e4e7",
   "metadata": {},
   "outputs": [
    {
     "name": "stdout",
     "output_type": "stream",
     "text": [
      "Josh Gurus\n"
     ]
    }
   ],
   "source": [
    "#Having named parameters sometimes saves us from confusion or when we want to respecify only one function\n",
    "def full_name(first_name = \"Joel\", last_name = \"Gurus\"):\n",
    "    print(first_name + \" \" + last_name)\n",
    "full_name(first_name = \"Josh\")"
   ]
  },
  {
   "cell_type": "code",
   "execution_count": 11,
   "id": "154c57fd-915f-4130-a363-594c180e82fe",
   "metadata": {},
   "outputs": [
    {
     "name": "stdout",
     "output_type": "stream",
     "text": [
      "I am Zuma \t I earn 20 000\n"
     ]
    }
   ],
   "source": [
    "#stirng can be encolsed in songle or double quotations it does not matter and Python makes use of backslashes for special characters\n",
    "salary = 'I am Zuma \\t I earn 20 000'\n",
    "print(salary)"
   ]
  },
  {
   "cell_type": "code",
   "execution_count": 12,
   "id": "78a03cad-87cc-440a-89cb-374466a84c02",
   "metadata": {},
   "outputs": [
    {
     "name": "stdout",
     "output_type": "stream",
     "text": [
      "\\t\n"
     ]
    }
   ],
   "source": [
    "#if we want raw string we would have to make use of the r sybmol - this for example would give us access to backslashes\n",
    "tab_string = r\"\\t\"\n",
    "print(tab_string)"
   ]
  },
  {
   "cell_type": "code",
   "execution_count": 13,
   "id": "4ce2393c-af91-4b63-998f-6b0d7c2493df",
   "metadata": {},
   "outputs": [
    {
     "name": "stdout",
     "output_type": "stream",
     "text": [
      "\n",
      "I am a mult-line string\n",
      "\n"
     ]
    }
   ],
   "source": [
    "#we can print multi-line string using three double quotes\n",
    "multi_line_string = \"\"\"\n",
    "I am a mult-line string\n",
    "\"\"\"\n",
    "print(multi_line_string)"
   ]
  },
  {
   "cell_type": "code",
   "execution_count": 19,
   "id": "c433d019-283e-41a9-b6f4-936b709ae080",
   "metadata": {},
   "outputs": [
    {
     "name": "stdout",
     "output_type": "stream",
     "text": [
      "Yamkela Qhogwana\n",
      "Yamkela Qhogwana \n",
      "Yamkela Qhogwana\n"
     ]
    }
   ],
   "source": [
    "#Constructing a multi varibale string can be complex\n",
    "first_name = \"Yamkela\"\n",
    "surname = \"Qhogwana\"\n",
    "full_name1 = first_name + \" \" + surname\n",
    "full_name2 = \"{0} {1} \".format(first_name, surname)\n",
    "print(full_name1)\n",
    "print(full_name2)\n",
    "#f-string are jsut way better and are actually the preffered method within this book\n",
    "full_name3 = f\"{first_name} {surname}\"\n",
    "print(full_name3)"
   ]
  },
  {
   "cell_type": "code",
   "execution_count": 20,
   "id": "f3db5058-4328-4caf-856b-a351ce15d681",
   "metadata": {},
   "outputs": [
    {
     "name": "stdout",
     "output_type": "stream",
     "text": [
      "Cannot divide by 0\n"
     ]
    }
   ],
   "source": [
    "#Python uses Exceptions to handle errors these prevent the program from crashing if something goes wrong\n",
    "#In Python this is not a bad practise and can acually make code cleaner\n",
    "try:\n",
    "    print(0/0)\n",
    "except ZeroDivisionError:\n",
    "    print(\"Cannot divide by 0\")"
   ]
  },
  {
   "cell_type": "code",
   "execution_count": 21,
   "id": "ea9b1466-592f-42a2-a16f-d6a1d486fce8",
   "metadata": {},
   "outputs": [
    {
     "name": "stdout",
     "output_type": "stream",
     "text": [
      "1\n"
     ]
    }
   ],
   "source": [
    "#lists in pyhton are like an array theyre an ordered collection but they can have diffren types\n",
    "integer_list = [1,2,3]\n",
    "hetero_list = [1, 'one']\n",
    "list_of_lists = [integer_list, hetero_list, [1,2]]\n",
    "print(integer_list[0])"
   ]
  }
 ],
 "metadata": {
  "kernelspec": {
   "display_name": "Python 3 (ipykernel)",
   "language": "python",
   "name": "python3"
  },
  "language_info": {
   "codemirror_mode": {
    "name": "ipython",
    "version": 3
   },
   "file_extension": ".py",
   "mimetype": "text/x-python",
   "name": "python",
   "nbconvert_exporter": "python",
   "pygments_lexer": "ipython3",
   "version": "3.13.5"
  }
 },
 "nbformat": 4,
 "nbformat_minor": 5
}
