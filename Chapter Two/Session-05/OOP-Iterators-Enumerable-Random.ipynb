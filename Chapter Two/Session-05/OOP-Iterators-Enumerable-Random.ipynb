{
 "cells": [
  {
   "cell_type": "code",
   "execution_count": 8,
   "id": "774c3d1a-b2ec-4344-955b-b49d23c1cde3",
   "metadata": {},
   "outputs": [
    {
     "name": "stdout",
     "output_type": "stream",
     "text": [
      "[0, 2, 4]\n",
      "{0: 0, 1: 1, 2: 4, 3: 9, 4: 16, 5: 25, 6: 36, 7: 49, 8: 64, 9: 81}\n"
     ]
    }
   ],
   "source": [
    "#List Comprehensions \n",
    "even_numbers = [x for x in range(5) if x % 2 == 0]\n",
    "print(even_numbers)\n",
    "even_numbers_sqaured = [x * x for x in range(10) if x % 2 == 0 ]\n",
    "square_dict = {x: x * x for x in range(10)}\n",
    "print(square_dict)\n",
    "zeros = [0 for _ in even_numbers]\n",
    "print(zeros)"
   ]
  },
  {
   "cell_type": "code",
   "execution_count": 39,
   "id": "78b4b74f-d872-43ff-9df2-ba22121e0a23",
   "metadata": {},
   "outputs": [
    {
     "name": "stdout",
     "output_type": "stream",
     "text": [
      "0\n",
      "2\n"
     ]
    }
   ],
   "source": [
    "#Classes and assertions\n",
    "class CountingClicker:\n",
    "    def __init__(self, counter = 0):\n",
    "        self.counter = counter\n",
    "        print(self.counter)\n",
    "    def __repr__(self):\n",
    "        return f\"CountingClicker(count={self.counter})\"\n",
    "    def click(self, num_times = 1):\n",
    "        self.counter += num_times\n",
    "    def read(self):\n",
    "        return self.counter\n",
    "    def reset(self):\n",
    "        self.counter = 0\n",
    "clicker = CountingClicker()\n",
    "clicker.click()\n",
    "clicker.click()\n",
    "print(clicker.read())\n",
    "assert clicker.read() == 2, \"Counter should be 2\"\n",
    "clicker.reset()\n",
    "assert clicker.read() == 0, \"Counter Should be back to 0\""
   ]
  },
  {
   "cell_type": "code",
   "execution_count": 42,
   "id": "e283d4aa-e44f-45fe-98ae-5655732fe03a",
   "metadata": {},
   "outputs": [
    {
     "name": "stdout",
     "output_type": "stream",
     "text": [
      "0\n"
     ]
    }
   ],
   "source": [
    "#Subclasses \n",
    "class NonResetClicker(CountingClicker):\n",
    "    def reset(self):\n",
    "        pass\n",
    "nonResetClicker = NonResetClicker()\n",
    "nonResetClicker.click()\n",
    "nonResetClicker.click()\n",
    "assert nonResetClicker.read() == 2, \"The clicker should be 2\"\n",
    "nonResetClicker.reset()\n",
    "assert nonResetClicker.read() == 2, \"The clicker should still be 2\""
   ]
  },
  {
   "cell_type": "code",
   "execution_count": 49,
   "id": "8264a894-d185-43f1-be77-bc9c33ee27b8",
   "metadata": {},
   "outputs": [
    {
     "name": "stdout",
     "output_type": "stream",
     "text": [
      "0\n",
      "1\n",
      "2\n",
      "3\n",
      "4\n",
      "5\n",
      "6\n",
      "7\n",
      "8\n",
      "9\n",
      "4\n",
      "6\n",
      "8\n",
      "10\n",
      "12\n",
      "14\n",
      "16\n",
      "18\n"
     ]
    }
   ],
   "source": [
    "#Iterators and Generators\n",
    "#Generators allow us to yield on demand/lazily and therefore work well for millions of values\n",
    "#We can use this for operations like natural numbers, however with generators we can only iterate once\n",
    "def generate_range(n):\n",
    "    i = 0\n",
    "    while i < n:\n",
    "        yield i\n",
    "        i +=1\n",
    "for x in generate_range(10):\n",
    "    print(x)\n",
    "#They must be applied\n",
    "evens_below_20 = (x for x in generate_range(20) if x % 2 == 0)\n",
    "evens = (x for x in evens_below_20 if x > 2) #remeber its loaded lazily\n",
    "for x in evens:\n",
    "    print(x)"
   ]
  },
  {
   "cell_type": "code",
   "execution_count": 51,
   "id": "2811a457-5cf9-43ba-b602-1e078d731e8f",
   "metadata": {},
   "outputs": [
    {
     "name": "stdout",
     "output_type": "stream",
     "text": [
      "0: Alice\n",
      "1: Bob\n",
      "2: Joe\n"
     ]
    }
   ],
   "source": [
    "#The enumerable operator allows us to operate and get keys which is extremely useful\n",
    "names = [\"Alice\", \"Bob\", \"Joe\"]\n",
    "for i, name in enumerate(names):\n",
    "    print(f\"{i}: {name}\")"
   ]
  },
  {
   "cell_type": "code",
   "execution_count": 53,
   "id": "3bc9a190-eb43-40e4-97da-cc283ae5565e",
   "metadata": {},
   "outputs": [
    {
     "name": "stdout",
     "output_type": "stream",
     "text": [
      "[0.13436424411240122, 0.8474337369372327, 0.763774618976614, 0.2550690257394217]\n"
     ]
    }
   ],
   "source": [
    "#Generating Random Numbers\n",
    "import random\n",
    "random.seed(1)\n",
    "\n",
    "four_uniform_randoms = [random.random() for _ in range(4)]\n",
    "print(four_uniform_randoms)\n",
    "\n",
    "#Seed assists with reproducable results\n",
    "random.seed(10) \n",
    "print(random.random())\n",
    "random.seed(10) \n",
    "print(random.random()) "
   ]
  }
 ],
 "metadata": {
  "kernelspec": {
   "display_name": "Python 3 (ipykernel)",
   "language": "python",
   "name": "python3"
  },
  "language_info": {
   "codemirror_mode": {
    "name": "ipython",
    "version": 3
   },
   "file_extension": ".py",
   "mimetype": "text/x-python",
   "name": "python",
   "nbconvert_exporter": "python",
   "pygments_lexer": "ipython3",
   "version": "3.13.5"
  }
 },
 "nbformat": 4,
 "nbformat_minor": 5
}
