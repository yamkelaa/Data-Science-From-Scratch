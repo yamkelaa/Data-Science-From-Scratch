{
 "cells": [
  {
   "cell_type": "code",
   "execution_count": 6,
   "id": "375ddf1c-1c88-44cb-8099-4f8788d81340",
   "metadata": {},
   "outputs": [
    {
     "name": "stdout",
     "output_type": "stream",
     "text": [
      "defaultdict(<class 'list'>, {2: [1]})\n",
      "dict_keys(['Moon'])\n"
     ]
    }
   ],
   "source": [
    "from collections import defaultdict\n",
    "dd_list = defaultdict(list)\n",
    "dd_list[2].append(1) #create a new key with the value of 1\n",
    "print(dd_list)\n",
    "#this will be useful when were working with dictonaries and dont want to cehck if they exist everytime\n",
    "dd_dictionary = defaultdict(dict)\n",
    "dd_dictionary[\"Moon\"] = [\"Boot\"]\n",
    "print(dd_dictionary.keys())\n"
   ]
  },
  {
   "cell_type": "code",
   "execution_count": 8,
   "id": "9e6608b3-a263-46a0-9a7c-2e9cf10dd368",
   "metadata": {},
   "outputs": [
    {
     "name": "stdout",
     "output_type": "stream",
     "text": [
      "Counter({4: 2, 1: 1, 2: 1, 3: 1, 5: 1, 6: 1})\n"
     ]
    }
   ],
   "source": [
    "#A counter counts the number of times specific values have appeared in an object/string etc\n",
    "in dict format\n",
    "from collections import Counter\n",
    "c = Counter([1,2,3,4,5,6,4])\n",
    "print(c)"
   ]
  },
  {
   "cell_type": "code",
   "execution_count": 11,
   "id": "7df89381-eac2-49cd-8a9c-f7aae16bed4d",
   "metadata": {},
   "outputs": [
    {
     "name": "stdout",
     "output_type": "stream",
     "text": [
      "Counter({' ': 13, 'e': 5, 't': 5, 'a': 5, 'h': 4, 'b': 4, 'i': 4, 'g': 4, 'r': 2, 'd': 2, 'l': 2, 'T': 1, 'f': 1, 'o': 1, 'x': 1, ',': 1, 'n': 1, 'c': 1, 's': 1, 'm': 1})\n",
      "  13\n",
      "e 5\n",
      "t 5\n",
      "a 5\n",
      "h 4\n",
      "b 4\n",
      "i 4\n",
      "g 4\n",
      "r 2\n",
      "d 2\n"
     ]
    }
   ],
   "source": [
    "book = \"The big fox, the big rag and the big cat ate the small bird\"\n",
    "letter_counts = Counter(book) \n",
    "print(letter_counts)\n",
    "\n",
    "#the most common function assists us find the ltters that appear most frequnetly\n",
    "for letter, count in letter_counts.most_common(10):\n",
    "    print(letter, count)"
   ]
  },
  {
   "cell_type": "code",
   "execution_count": 13,
   "id": "9f1dff29-9130-49e1-8310-bb08305b6d77",
   "metadata": {},
   "outputs": [
    {
     "name": "stdout",
     "output_type": "stream",
     "text": [
      "2\n",
      "3\n",
      "5\n",
      "7\n"
     ]
    }
   ],
   "source": [
    "#Sets\n",
    "#A set is a collection of unique elements\n",
    "primes_below_10 = {2,3,5,7}\n",
    "for i in primes_below_10:\n",
    "    print(i)"
   ]
  },
  {
   "cell_type": "code",
   "execution_count": 17,
   "id": "dcef28ea-77ba-42ad-8d74-0240810123da",
   "metadata": {},
   "outputs": [
    {
     "name": "stdout",
     "output_type": "stream",
     "text": [
      "True\n"
     ]
    }
   ],
   "source": [
    "my_set = set() #how to declare an empty set\n",
    "my_set.add(1)\n",
    "my_set.add(2)\n",
    "print(2 in my_set)"
   ]
  },
  {
   "cell_type": "code",
   "execution_count": 25,
   "id": "9697567b-6a0e-4678-a997-e06a5eea6fff",
   "metadata": {},
   "outputs": [
    {
     "name": "stdout",
     "output_type": "stream",
     "text": [
      "{1, 2, 3, 4, 5, 6, 7, 8, 9, 10}\n",
      "[10, 9, 8, 7, 6, 5, 4, 3, 2, 1, 1]\n"
     ]
    }
   ],
   "source": [
    "#sets are better for lookups they are faster than lists\n",
    "#sets are also good for getting the distinct items inside a collection\n",
    "#sets are used less frequnrly than lists, buth they are still made use of\n",
    "numbers = []\n",
    "i = 10\n",
    "while i > 0:\n",
    "    numbers.append(i)\n",
    "    i = i-1\n",
    "numbers.append(1)\n",
    "unique_numbers = set(numbers)\n",
    "print(unique_numbers)\n",
    "print(numbers)"
   ]
  },
  {
   "cell_type": "code",
   "execution_count": 3,
   "id": "6f15056e-68db-48b4-a91b-ee9be44c1490",
   "metadata": {},
   "outputs": [
    {
     "name": "stdout",
     "output_type": "stream",
     "text": [
      "You are not allowed to drive\n"
     ]
    }
   ],
   "source": [
    "#Pyhton has control flows like other languages\n",
    "age = 16\n",
    "if age < 18:\n",
    "    print(\"You are not allowed to drive\")\n",
    "elif age >= 18:\n",
    "    print(\"Drive\")\n",
    "else:\n",
    "    print(\"Invalid\")"
   ]
  },
  {
   "cell_type": "code",
   "execution_count": 5,
   "id": "21c4f825-16c8-4d0e-8290-cc7a3545608d",
   "metadata": {},
   "outputs": [
    {
     "name": "stdout",
     "output_type": "stream",
     "text": [
      "even\n"
     ]
    }
   ],
   "source": [
    "x = 6\n",
    "parity = \"even\"  if x % 2 == 0 else \"odd\"\n",
    "print(parity)"
   ]
  },
  {
   "cell_type": "code",
   "execution_count": 6,
   "id": "22c867e2-65bc-4209-a46b-23e2a1265344",
   "metadata": {},
   "outputs": [
    {
     "name": "stdout",
     "output_type": "stream",
     "text": [
      "1\n",
      "2\n",
      "3\n",
      "4\n",
      "5\n",
      "6\n",
      "7\n",
      "8\n",
      "9\n"
     ]
    }
   ],
   "source": [
    "x = 1\n",
    "while x < 10:\n",
    "    print(x)\n",
    "    x +=1 "
   ]
  },
  {
   "cell_type": "code",
   "execution_count": 9,
   "id": "58b43f76-82ed-48b9-a2dc-70fae24ca9a7",
   "metadata": {},
   "outputs": [
    {
     "name": "stdout",
     "output_type": "stream",
     "text": [
      "1\n",
      "2\n",
      "4\n",
      "5\n"
     ]
    }
   ],
   "source": [
    "list = [1,2,3,4,5,6,7,8,9]\n",
    "for i in list:\n",
    "    if i == 3:\n",
    "        continue\n",
    "    if i == 6:\n",
    "        break\n",
    "    print(i)"
   ]
  },
  {
   "cell_type": "code",
   "execution_count": 11,
   "id": "80030b29-9ed5-4482-9546-126ce73f4261",
   "metadata": {},
   "outputs": [
    {
     "name": "stdout",
     "output_type": "stream",
     "text": [
      "False\n",
      "False\n"
     ]
    }
   ],
   "source": [
    "#In python boolean values are printed with Capital letters otherwise truthy and falsy values work in the same manner\n",
    "print(3 < 2)\n",
    "print(True == False)"
   ]
  },
  {
   "cell_type": "code",
   "execution_count": 13,
   "id": "c2ebf428-11b0-4691-a019-16a669dc42b8",
   "metadata": {},
   "outputs": [
    {
     "name": "stdout",
     "output_type": "stream",
     "text": [
      "None\n",
      "No\n"
     ]
    }
   ],
   "source": [
    "#None is pythons way of saying a value is null\n",
    "x = None\n",
    "print(x)\n",
    "#None is a falsy value, so is false, an empty collection 0 or an empty string\n",
    "if x :\n",
    "    print(\"Yes\")\n",
    "else:\n",
    "    print(\"No\")"
   ]
  },
  {
   "cell_type": "code",
   "execution_count": 14,
   "id": "7e370a61-a488-4965-9e33-972303314fd9",
   "metadata": {},
   "outputs": [
    {
     "name": "stdout",
     "output_type": "stream",
     "text": [
      "0\n"
     ]
    }
   ],
   "source": [
    "s = \"\"\n",
    "if s:\n",
    "    first_char = s[0]\n",
    "else:\n",
    "    first_char = 0\n",
    "print(first_char)"
   ]
  },
  {
   "cell_type": "code",
   "execution_count": 18,
   "id": "78bd4696-764e-4a0b-b8b2-013b4be8bb54",
   "metadata": {},
   "outputs": [
    {
     "name": "stdout",
     "output_type": "stream",
     "text": [
      "\n"
     ]
    }
   ],
   "source": [
    "first_char = s and s[0]\n",
    "print(first_char)"
   ]
  },
  {
   "cell_type": "code",
   "execution_count": 20,
   "id": "5d8ea65c-a7c9-4498-8cc6-e49639af7e4c",
   "metadata": {},
   "outputs": [],
   "source": [
    "x = ''\n",
    "safe_x = x or 0\n",
    "safe_x = x if x is not None else 0"
   ]
  },
  {
   "cell_type": "code",
   "execution_count": 24,
   "id": "782da6f9-4296-4092-bc33-dad79aeaecbb",
   "metadata": {},
   "outputs": [
    {
     "data": {
      "text/plain": [
       "True"
      ]
     },
     "execution_count": 24,
     "metadata": {},
     "output_type": "execute_result"
    }
   ],
   "source": [
    "all([True, 1, {3}]) #retunrs true if all is true\n",
    "all([True, 0, {3}]) #returns false as not all are true\n",
    "any([True, 1, {3}]) #returns true if any is true\n",
    "any([True, 0, {3}]) #returns true if any is true"
   ]
  }
 ],
 "metadata": {
  "kernelspec": {
   "display_name": "Python 3 (ipykernel)",
   "language": "python",
   "name": "python3"
  },
  "language_info": {
   "codemirror_mode": {
    "name": "ipython",
    "version": 3
   },
   "file_extension": ".py",
   "mimetype": "text/x-python",
   "name": "python",
   "nbconvert_exporter": "python",
   "pygments_lexer": "ipython3",
   "version": "3.13.5"
  }
 },
 "nbformat": 4,
 "nbformat_minor": 5
}
