{
 "cells": [
  {
   "cell_type": "code",
   "execution_count": 1,
   "id": "22f02e19-76c0-48cb-b85b-c08c32e8f6a3",
   "metadata": {},
   "outputs": [
    {
     "name": "stdout",
     "output_type": "stream",
     "text": [
      "Yamkela Qhogwana\n"
     ]
    }
   ],
   "source": [
    "#formatting a string\n",
    "first_name = \"Yamkela\"\n",
    "last_name = \"Qhogwana\"\n",
    "full_name = f\"{first_name} {last_name}\"\n",
    "print(full_name)"
   ]
  },
  {
   "cell_type": "code",
   "execution_count": 63,
   "id": "6b184b76-ae4e-4608-bc8b-83cea676ad68",
   "metadata": {},
   "outputs": [
    {
     "name": "stdout",
     "output_type": "stream",
     "text": [
      "1\n",
      "2\n",
      "3\n",
      "4\n",
      "5\n",
      "6\n",
      "7\n"
     ]
    }
   ],
   "source": [
    "list = [1,2,3,4,5,6,7]\n",
    "for i in list:\n",
    "    print(i)"
   ]
  },
  {
   "cell_type": "code",
   "execution_count": 3,
   "id": "d4659bbe-d9af-4e34-bd4f-67b43c8a5f47",
   "metadata": {},
   "outputs": [
    {
     "name": "stdout",
     "output_type": "stream",
     "text": [
      "7\n",
      "6\n"
     ]
    }
   ],
   "source": [
    "#We can access the last and second last elements of the list\n",
    "print(list[-1])\n",
    "print(list[-2])"
   ]
  },
  {
   "cell_type": "code",
   "execution_count": 9,
   "id": "d9a1f66d-678d-41d6-8fff-1b2f1cc50642",
   "metadata": {},
   "outputs": [
    {
     "name": "stdout",
     "output_type": "stream",
     "text": [
      "[1, 2, 3]\n",
      "[4, 5, 6, 7]\n",
      "[2, 3]\n",
      "[3, 4]\n",
      "[2, 3, 4, 5, 6]\n",
      "[1, 2, 3, 4, 5, 6, 7]\n"
     ]
    }
   ],
   "source": [
    "#Slicing a list\n",
    "print(list[:3])#first 3\n",
    "print(list[3:])#rest of the list besides the first 3\n",
    "print(list[1:3]) #including the item at index 1 and not including the 3rd item\n",
    "print(list[2:4])\n",
    "print(list[1:-1]) #including the item at index 1 and up unitl before the last item\n",
    "print(list[:]) #the full list"
   ]
  },
  {
   "cell_type": "code",
   "execution_count": 11,
   "id": "5d59dc1d-f91d-40d6-817f-a70a44a969bd",
   "metadata": {},
   "outputs": [
    {
     "name": "stdout",
     "output_type": "stream",
     "text": [
      "[7, 5, 3, 1]\n",
      "[7, 6, 5, 4, 3, 2, 1]\n"
     ]
    }
   ],
   "source": [
    "#Slicing a list via patterns\n",
    "print(list[-1::-2]) #inclding the last item - print the rest of the list however minus one each time \n",
    "print(list[::-1])#reversing a list"
   ]
  },
  {
   "cell_type": "code",
   "execution_count": 12,
   "id": "7c7b2740-2ed6-4270-bb54-1578b85fda9a",
   "metadata": {},
   "outputs": [
    {
     "name": "stdout",
     "output_type": "stream",
     "text": [
      "1\n",
      "2\n",
      "3\n"
     ]
    }
   ],
   "source": [
    "#Checking for membership inside a list\n",
    "x = [1,2,3]\n",
    "for i in x:\n",
    "    print(i)"
   ]
  },
  {
   "cell_type": "code",
   "execution_count": 14,
   "id": "0620876c-c721-4d3c-b80f-4bcde2377613",
   "metadata": {},
   "outputs": [
    {
     "name": "stdout",
     "output_type": "stream",
     "text": [
      "1\n",
      "2\n",
      "3\n",
      "4\n",
      "5\n",
      "6\n"
     ]
    }
   ],
   "source": [
    "#Modifying a list\n",
    "x = [1,2,3]\n",
    "y = x + [4,5,6]\n",
    "for a in y:\n",
    "    print(a)"
   ]
  },
  {
   "cell_type": "code",
   "execution_count": 15,
   "id": "bf6f954d-bd8c-48e0-a94a-07f2dd02831e",
   "metadata": {},
   "outputs": [
    {
     "name": "stdout",
     "output_type": "stream",
     "text": [
      "7\n"
     ]
    }
   ],
   "source": [
    "#Appending a list \n",
    "y.append(7)\n",
    "print(y[-1])"
   ]
  },
  {
   "cell_type": "code",
   "execution_count": 18,
   "id": "572d3545-d0f0-4233-b35a-19dd16a2c326",
   "metadata": {},
   "outputs": [
    {
     "name": "stdout",
     "output_type": "stream",
     "text": [
      "1\n",
      "2\n",
      "2\n"
     ]
    }
   ],
   "source": [
    "#Unpacking a list \n",
    "z = [1,2]\n",
    "x, y = z\n",
    "print(x)\n",
    "print(y)\n",
    "#discard an element\n",
    "_, b = z\n",
    "print(b)"
   ]
  },
  {
   "cell_type": "code",
   "execution_count": 20,
   "id": "3e7e5e0e-1e68-42fb-9df6-80e2a9052ccd",
   "metadata": {},
   "outputs": [
    {
     "name": "stdout",
     "output_type": "stream",
     "text": [
      "1\n",
      "2\n"
     ]
    }
   ],
   "source": [
    "#Tuples are the immutable cousin of a list, we cannot edit a tuple\n",
    "my_tuple = 1,2\n",
    "my_tuple2 = (3,4)\n",
    "for i in my_tuple:\n",
    "    print(i)"
   ]
  },
  {
   "cell_type": "code",
   "execution_count": 22,
   "id": "0882916c-654d-403d-9d4d-7610418fcc36",
   "metadata": {},
   "outputs": [
    {
     "name": "stdout",
     "output_type": "stream",
     "text": [
      "Cannot modify a tuple\n"
     ]
    }
   ],
   "source": [
    "#Tuples cannot be modified\n",
    "try:\n",
    "    my_tuple[3] = 5\n",
    "except TypeError:\n",
    "    print(\"Cannot modify a tuple\")"
   ]
  },
  {
   "cell_type": "code",
   "execution_count": 23,
   "id": "123d3427-66d1-43b1-8936-26858e587022",
   "metadata": {},
   "outputs": [
    {
     "name": "stdout",
     "output_type": "stream",
     "text": [
      "(12, 7)\n"
     ]
    }
   ],
   "source": [
    "#Tuples provide convenient ways to return multiple values from functions\n",
    "def sum_and_product(x, y):\n",
    "    return (x*y), (x+y)\n",
    "print(sum_and_product(3, 4))"
   ]
  },
  {
   "cell_type": "code",
   "execution_count": 24,
   "id": "704a1ab8-6c8b-4a57-8453-7ebcb3ed30c7",
   "metadata": {},
   "outputs": [
    {
     "name": "stdout",
     "output_type": "stream",
     "text": [
      "1\n"
     ]
    }
   ],
   "source": [
    "#tuples can be used for multi variables assignment and thus can be made use of in order to swap variables\n",
    "x, y = 1, 2\n",
    "x, y = y, x\n",
    "print(y)"
   ]
  },
  {
   "cell_type": "code",
   "execution_count": 26,
   "id": "3852282f-a948-4325-a5df-0193e2016cdb",
   "metadata": {},
   "outputs": [],
   "source": [
    "#Dictionaries are also important as they provide key value pairs\n",
    "empty_dict = {}\n",
    "empty_dict_2 = dict()"
   ]
  },
  {
   "cell_type": "code",
   "execution_count": 27,
   "id": "4d333fbf-21f7-433a-86f9-00ddd41f351a",
   "metadata": {},
   "outputs": [],
   "source": [
    "grades = {\"Joel\" : 80, \"Luke\" : 60}"
   ]
  },
  {
   "cell_type": "code",
   "execution_count": 29,
   "id": "1421df8a-e389-4984-b852-cf078a80719c",
   "metadata": {},
   "outputs": [
    {
     "name": "stdout",
     "output_type": "stream",
     "text": [
      "80\n",
      "No key with the name Mark Exists\n"
     ]
    }
   ],
   "source": [
    "#Kety Errors in a dictionary\n",
    "print(grades[\"Joel\"])\n",
    "try:\n",
    "    print(grades[\"Mark\"])\n",
    "except KeyError:\n",
    "    print(\"No key with the name Mark Exists\")"
   ]
  },
  {
   "cell_type": "code",
   "execution_count": 31,
   "id": "bc5b2cf8-990b-4800-b5ae-f51d61b16b25",
   "metadata": {},
   "outputs": [
    {
     "name": "stdout",
     "output_type": "stream",
     "text": [
      "False\n"
     ]
    }
   ],
   "source": [
    "#Checking for the existence of a key, its a fast check even in large dictionaries\n",
    "grades_has_mark = \"Mark\" in grades\n",
    "print(grades_has_mark)"
   ]
  },
  {
   "cell_type": "code",
   "execution_count": 33,
   "id": "531a0a13-42b9-4c59-a5b5-1b37fe7e41fd",
   "metadata": {},
   "outputs": [
    {
     "name": "stdout",
     "output_type": "stream",
     "text": [
      "0\n",
      "None\n"
     ]
    }
   ],
   "source": [
    "#Dictionaries have a get method that woud return a None or some default value if nothing is returned from it\n",
    "mark_grade = grades.get(\"Mark\", 0)\n",
    "jon_grade = grades.get(\"Jon\")\n",
    "print(mark_grade)\n",
    "print(jon_grade)"
   ]
  },
  {
   "cell_type": "code",
   "execution_count": 34,
   "id": "c5ff866b-a733-48b8-b0cf-beb46a703f90",
   "metadata": {},
   "outputs": [
    {
     "name": "stdout",
     "output_type": "stream",
     "text": [
      "100\n"
     ]
    }
   ],
   "source": [
    "#Appending a dictionary\n",
    "grades[\"Mark\"] = 100\n",
    "print(grades[\"Mark\"])"
   ]
  },
  {
   "cell_type": "code",
   "execution_count": 35,
   "id": "a1120db5-1d11-48de-8e48-47a6898b48fc",
   "metadata": {},
   "outputs": [],
   "source": [
    "#Dictionaries can be made use of in order to represent unstructured Data\n",
    "tweet = {\n",
    "    \"userId\" : 1,\n",
    "    \"name\" : \"green_tea\",\n",
    "    \"hastags\" : [\"#Soccer\", \"#Foodie\"]\n",
    "}"
   ]
  },
  {
   "cell_type": "code",
   "execution_count": 38,
   "id": "ffdd953f-c4d0-4352-9e20-be8122cea84e",
   "metadata": {},
   "outputs": [
    {
     "name": "stdout",
     "output_type": "stream",
     "text": [
      "dict_keys(['userId', 'name', 'hastags'])\n",
      "dict_values([1, 'green_tea', ['#Soccer', '#Foodie']])\n",
      "dict_items([('userId', 1), ('name', 'green_tea'), ('hastags', ['#Soccer', '#Foodie'])])\n"
     ]
    }
   ],
   "source": [
    "#There are existing ways to iterate through complex keys of this nature\n",
    "print(tweet.keys())\n",
    "print(tweet.values())\n",
    "print(tweet.items())"
   ]
  },
  {
   "cell_type": "code",
   "execution_count": 41,
   "id": "38a1fac1-cc1a-4521-8758-691df82a170a",
   "metadata": {},
   "outputs": [
    {
     "name": "stdout",
     "output_type": "stream",
     "text": [
      "True\n",
      "True\n"
     ]
    }
   ],
   "source": [
    "#we can check for certain keys and values\n",
    "print(\"name\" in tweet) #key check\n",
    "print(1 in tweet.values()) #value check"
   ]
  },
  {
   "cell_type": "code",
   "execution_count": 48,
   "id": "0853b049-b285-4084-a9bb-9e229204d446",
   "metadata": {},
   "outputs": [
    {
     "ename": "KeyError",
     "evalue": "'T'",
     "output_type": "error",
     "traceback": [
      "\u001b[31m---------------------------------------------------------------------------\u001b[39m",
      "\u001b[31mKeyError\u001b[39m                                  Traceback (most recent call last)",
      "\u001b[36mCell\u001b[39m\u001b[36m \u001b[39m\u001b[32mIn[48]\u001b[39m\u001b[32m, line 6\u001b[39m\n\u001b[32m      4\u001b[39m \u001b[38;5;28;01mfor\u001b[39;00m letter \u001b[38;5;129;01min\u001b[39;00m book:\n\u001b[32m      5\u001b[39m     \u001b[38;5;28;01mif\u001b[39;00m letter \u001b[38;5;129;01min\u001b[39;00m word_counts:\n\u001b[32m----> \u001b[39m\u001b[32m6\u001b[39m             letter_counts[letter] +=\u001b[32m1\u001b[39m\n\u001b[32m      7\u001b[39m     \u001b[38;5;28;01melse\u001b[39;00m:\n\u001b[32m      8\u001b[39m         letter_counts[letter] = \u001b[32m1\u001b[39m\n",
      "\u001b[31mKeyError\u001b[39m: 'T'"
     ]
    }
   ],
   "source": [
    "#Default Dict\n",
    "book = \"The huge tree went with the wind. The wind took the tree, and it went with it\"\n",
    "letter_counts = {} #Initialsing the new dictionary\n",
    "for letter in book:\n",
    "    if letter in word_counts:\n",
    "            letter_counts[letter] +=1\n",
    "    else:\n",
    "        letter_counts[letter] = 1\n",
    "#The method above would cause an error and trying to use a key would not be helpful either, and get also would not work well the best paarach we could do is a default dict"
   ]
  },
  {
   "cell_type": "code",
   "execution_count": 54,
   "id": "89b2ea97-1935-4106-a3cc-6ab77f51e1ec",
   "metadata": {},
   "outputs": [
    {
     "name": "stdout",
     "output_type": "stream",
     "text": [
      "dict_items([('T', 2), ('h', 7), ('e', 11), (' ', 16), ('u', 1), ('g', 1), ('t', 11), ('r', 2), ('w', 6), ('n', 5), ('i', 6), ('d', 3), ('.', 1), ('o', 2), ('k', 1), (',', 1), ('a', 1)])\n"
     ]
    }
   ],
   "source": [
    "from collections import defaultdict\n",
    "#Default Dict\n",
    "#This will look for a letter and if its not there create it/ that key and then assign a value to 0\n",
    "book = \"The huge tree went with the wind. The wind took the tree, and it went with it\"\n",
    "letter_counts = defaultdict(int)\n",
    "for letter in book: \n",
    "     letter_counts[letter] +=1\n",
    "print(letter_counts.items())"
   ]
  }
 ],
 "metadata": {
  "kernelspec": {
   "display_name": "Python 3 (ipykernel)",
   "language": "python",
   "name": "python3"
  },
  "language_info": {
   "codemirror_mode": {
    "name": "ipython",
    "version": 3
   },
   "file_extension": ".py",
   "mimetype": "text/x-python",
   "name": "python",
   "nbconvert_exporter": "python",
   "pygments_lexer": "ipython3",
   "version": "3.13.5"
  }
 },
 "nbformat": 4,
 "nbformat_minor": 5
}
