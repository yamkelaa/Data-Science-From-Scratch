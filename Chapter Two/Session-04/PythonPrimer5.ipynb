{
 "cells": [
  {
   "cell_type": "code",
   "execution_count": 3,
   "id": "e78d7ec6-7398-40a6-8cb0-83e13c00ced2",
   "metadata": {},
   "outputs": [
    {
     "name": "stdout",
     "output_type": "stream",
     "text": [
      "[1, 2, 3, 4, 4, 5, 6, 55, 78, 88]\n"
     ]
    }
   ],
   "source": [
    "#Revision\n",
    "#Default Dict - Counting words from a book\n",
    "#Lists vs Tuples vs Dictionaries\n",
    "#Counters - Counting words in a book\n",
    "#Sets"
   ]
  },
  {
   "cell_type": "code",
   "execution_count": null,
   "id": "38cc3b40-3fc7-4c6d-9560-549caf9102fc",
   "metadata": {},
   "outputs": [],
   "source": [
    "#Sorting in Python\n",
    "x = [1,2,3,4,5,78,4,55,6,88]\n",
    "y = sorted(x)\n",
    "print(y)"
   ]
  },
  {
   "cell_type": "code",
   "execution_count": null,
   "id": "17013d3f-136a-419c-a57a-9ab434c2dbbb",
   "metadata": {},
   "outputs": [],
   "source": []
  }
 ],
 "metadata": {
  "kernelspec": {
   "display_name": "Python 3 (ipykernel)",
   "language": "python",
   "name": "python3"
  },
  "language_info": {
   "codemirror_mode": {
    "name": "ipython",
    "version": 3
   },
   "file_extension": ".py",
   "mimetype": "text/x-python",
   "name": "python",
   "nbconvert_exporter": "python",
   "pygments_lexer": "ipython3",
   "version": "3.13.5"
  }
 },
 "nbformat": 4,
 "nbformat_minor": 5
}
