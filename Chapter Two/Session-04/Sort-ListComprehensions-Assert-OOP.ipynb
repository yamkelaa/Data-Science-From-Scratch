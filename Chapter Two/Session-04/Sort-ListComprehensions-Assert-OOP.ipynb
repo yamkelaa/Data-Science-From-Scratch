{
 "cells": [
  {
   "cell_type": "code",
   "execution_count": 14,
   "id": "e78d7ec6-7398-40a6-8cb0-83e13c00ced2",
   "metadata": {},
   "outputs": [
    {
     "name": "stdout",
     "output_type": "stream",
     "text": [
      "defaultdict(<class 'int'>, {'The': 1, 'dog': 2, 'ate': 1, 'the': 2, 'cat': 1, 'who': 1, 'was': 1, 'scared': 1, 'of': 1})\n",
      "1\n",
      "One\n",
      "[1, 1]\n",
      "2\n",
      "23\n",
      "44\n",
      "55\n",
      "Counter({'dog': 2, 'the': 2, 'The': 1, 'ate': 1, 'cat': 1, 'who': 1, 'was': 1, 'scared': 1, 'of': 1})\n",
      "{56, 33, 67, 22}\n"
     ]
    }
   ],
   "source": [
    "#Revision\n",
    "#Default Dict - Counting words from a book\n",
    "from collections import defaultdict\n",
    "book = [\"The\", \"dog\", \"ate\", \"the\", \"cat\", \"who\", \"was\", \"scared\", \"of\", \"the\", \"dog\"]\n",
    "words = defaultdict(int)\n",
    "for word in book:\n",
    "    words[word] += 1\n",
    "print(words)\n",
    "#Lists vs Tuples vs Dictionaries\n",
    "#list is a collection and we can actually include multiple values inside a list of diffrent types and alter it\n",
    "list_of_lists = [1, \"One\", [1,1]]\n",
    "for i in list_of_lists:\n",
    "    print(i)\n",
    "x, y = 2, 3\n",
    "print(x)\n",
    "grades = 23, 44, 55\n",
    "for x in grades:\n",
    "    print(x)\n",
    "#Counters - Counting words in a book\n",
    "from collections import Counter\n",
    "words = Counter(book)\n",
    "print(words)\n",
    "#Sets\n",
    "numbers = [22,33,22,56,22,67]\n",
    "unique_numbers = set(numbers)\n",
    "print(unique_numbers)"
   ]
  },
  {
   "cell_type": "code",
   "execution_count": 15,
   "id": "38cc3b40-3fc7-4c6d-9560-549caf9102fc",
   "metadata": {},
   "outputs": [
    {
     "name": "stdout",
     "output_type": "stream",
     "text": [
      "[1, 2, 3, 4, 4, 5, 6, 55, 78, 88]\n",
      "[1, 2, 3, 4, 4, 5, 6, 55, 78, 88]\n"
     ]
    }
   ],
   "source": [
    "#Sorting in Python\n",
    "x = [1,2,3,4,5,78,4,55,6,88]\n",
    "y = sorted(x)\n",
    "print(y)\n",
    "x.sort() #when we dont want to change the original value of the list\n",
    "print(x)"
   ]
  },
  {
   "cell_type": "code",
   "execution_count": 17,
   "id": "17013d3f-136a-419c-a57a-9ab434c2dbbb",
   "metadata": {},
   "outputs": [
    {
     "name": "stdout",
     "output_type": "stream",
     "text": [
      "[88, 78, 55, 6, 5, 4, 4, 3, 2, 1]\n",
      "['ate', 'dog', 'The', 'the', 'who', 'of', 'scared', 'cat', 'was']\n"
     ]
    }
   ],
   "source": [
    "z = sorted(x, key=abs, reverse=True)\n",
    "print(z)\n",
    "wc = sorted(words, key=lambda word_and_count: word_and_count[1], reverse=True)\n",
    "print(wc)"
   ]
  },
  {
   "cell_type": "code",
   "execution_count": 21,
   "id": "0b0a54dd-3984-4057-9131-ff571125b856",
   "metadata": {},
   "outputs": [
    {
     "name": "stdout",
     "output_type": "stream",
     "text": [
      "[0, 2, 4]\n",
      "[0, 4, 16]\n",
      "[0, 1, 4, 9, 16]\n"
     ]
    }
   ],
   "source": [
    "#List Comprehensions\n",
    "even_numbers = [x for x in range(5) if x % 2 == 0]\n",
    "even_numbers_sqaured = [x*x for x in range(5) if x % 2 == 0]\n",
    "squares = [x*x for x in range(5)]\n",
    "print(even_numbers)\n",
    "print(even_numbers_sqaured)\n",
    "print(squares)"
   ]
  },
  {
   "cell_type": "code",
   "execution_count": 22,
   "id": "84ee7d74-ea3d-4113-a57e-219f8f5ff65c",
   "metadata": {},
   "outputs": [
    {
     "name": "stdout",
     "output_type": "stream",
     "text": [
      "{1, 4, 9, 16, 25}\n",
      "{1}\n"
     ]
    }
   ],
   "source": [
    "sqaures2 = {x * x for x in [1,2,3,4,5]}\n",
    "squares3 = {x*x for x in [1, -1]}\n",
    "print(sqaures2)\n",
    "print(squares3)"
   ]
  },
  {
   "cell_type": "code",
   "execution_count": 24,
   "id": "b3ce617d-cdd8-40a6-9347-4291d1f8ec8c",
   "metadata": {},
   "outputs": [
    {
     "name": "stdout",
     "output_type": "stream",
     "text": [
      "[0, 0, 0]\n"
     ]
    }
   ],
   "source": [
    "zeros = [0 for _ in even_numbers] #will preint a 0 for every variable inside even numbers\n",
    "print(zeros)"
   ]
  },
  {
   "cell_type": "code",
   "execution_count": 25,
   "id": "dba9caa8-464c-4c22-8d03-8f5bcf13ccef",
   "metadata": {},
   "outputs": [
    {
     "name": "stdout",
     "output_type": "stream",
     "text": [
      "[(0, 0), (0, 1), (0, 2), (0, 3), (0, 4), (0, 5), (0, 6), (0, 7), (0, 8), (0, 9), (1, 0), (1, 1), (1, 2), (1, 3), (1, 4), (1, 5), (1, 6), (1, 7), (1, 8), (1, 9), (2, 0), (2, 1), (2, 2), (2, 3), (2, 4), (2, 5), (2, 6), (2, 7), (2, 8), (2, 9), (3, 0), (3, 1), (3, 2), (3, 3), (3, 4), (3, 5), (3, 6), (3, 7), (3, 8), (3, 9), (4, 0), (4, 1), (4, 2), (4, 3), (4, 4), (4, 5), (4, 6), (4, 7), (4, 8), (4, 9), (5, 0), (5, 1), (5, 2), (5, 3), (5, 4), (5, 5), (5, 6), (5, 7), (5, 8), (5, 9), (6, 0), (6, 1), (6, 2), (6, 3), (6, 4), (6, 5), (6, 6), (6, 7), (6, 8), (6, 9), (7, 0), (7, 1), (7, 2), (7, 3), (7, 4), (7, 5), (7, 6), (7, 7), (7, 8), (7, 9), (8, 0), (8, 1), (8, 2), (8, 3), (8, 4), (8, 5), (8, 6), (8, 7), (8, 8), (8, 9), (9, 0), (9, 1), (9, 2), (9, 3), (9, 4), (9, 5), (9, 6), (9, 7), (9, 8), (9, 9)]\n",
      "[(0, 1), (0, 2), (0, 3), (0, 4), (0, 5), (0, 6), (0, 7), (0, 8), (0, 9), (1, 2), (1, 3), (1, 4), (1, 5), (1, 6), (1, 7), (1, 8), (1, 9), (2, 3), (2, 4), (2, 5), (2, 6), (2, 7), (2, 8), (2, 9), (3, 4), (3, 5), (3, 6), (3, 7), (3, 8), (3, 9), (4, 5), (4, 6), (4, 7), (4, 8), (4, 9), (5, 6), (5, 7), (5, 8), (5, 9), (6, 7), (6, 8), (6, 9), (7, 8), (7, 9), (8, 9)]\n"
     ]
    }
   ],
   "source": [
    "pairs = [(x,y) for x in range(10) for y in range(10)] #print x and y for x  and y under 10 \n",
    "increasing_pairs = [(x,y) for x in range (10) for y in range(x +1 , 10)]\n",
    "print(pairs)\n",
    "print(increasing_pairs)"
   ]
  },
  {
   "cell_type": "code",
   "execution_count": 29,
   "id": "e4268c88-945d-4ca0-a014-56d4560a7983",
   "metadata": {},
   "outputs": [],
   "source": [
    "#Automated Testing and Assert\n",
    "assert 1 + 1 == 2\n",
    "assert 1 + 1 == 2, \"1+1 should equals to 2 but it is not\"\n",
    "\n",
    "def smallest_function(x):\n",
    "    return(min(x))\n",
    "a = [3,66,1,45,-1]\n",
    "assert smallest_function(a) == -1, \"Should return -1 instead it returns something else\""
   ]
  },
  {
   "cell_type": "code",
   "execution_count": 32,
   "id": "8ddac8a0-6b0b-4b90-8112-31a990656145",
   "metadata": {},
   "outputs": [
    {
     "ename": "AssertionError",
     "evalue": "The list has no smallest item",
     "output_type": "error",
     "traceback": [
      "\u001b[31m---------------------------------------------------------------------------\u001b[39m",
      "\u001b[31mAssertionError\u001b[39m                            Traceback (most recent call last)",
      "\u001b[36mCell\u001b[39m\u001b[36m \u001b[39m\u001b[32mIn[32]\u001b[39m\u001b[32m, line 5\u001b[39m\n\u001b[32m      3\u001b[39m     \u001b[38;5;28mprint\u001b[39m(xs)\n\u001b[32m      4\u001b[39m ages = []\n\u001b[32m----> \u001b[39m\u001b[32m5\u001b[39m smallest_item(ages)\n",
      "\u001b[36mCell\u001b[39m\u001b[36m \u001b[39m\u001b[32mIn[32]\u001b[39m\u001b[32m, line 2\u001b[39m, in \u001b[36msmallest_item\u001b[39m\u001b[34m(xs)\u001b[39m\n\u001b[32m      1\u001b[39m \u001b[38;5;28;01mdef\u001b[39;00m\u001b[38;5;250m \u001b[39m\u001b[34msmallest_item\u001b[39m(xs):\n\u001b[32m----> \u001b[39m\u001b[32m2\u001b[39m     \u001b[38;5;28;01massert\u001b[39;00m xs, \u001b[33m\"\u001b[39m\u001b[33mThe list has no smallest item\u001b[39m\u001b[33m\"\u001b[39m\n\u001b[32m      3\u001b[39m     \u001b[38;5;28mprint\u001b[39m(xs)\n",
      "\u001b[31mAssertionError\u001b[39m: The list has no smallest item"
     ]
    }
   ],
   "source": [
    "def smallest_item(xs): #we can use llists to asser intputs as well\n",
    "    assert xs, \"The list has no smallest item\"\n",
    "    print(xs)\n",
    "ages = []\n",
    "smallest_item(ages)"
   ]
  },
  {
   "cell_type": "code",
   "execution_count": 40,
   "id": "662f98cf-351f-4edf-90ca-795539e6def8",
   "metadata": {},
   "outputs": [
    {
     "name": "stdout",
     "output_type": "stream",
     "text": [
      "0\n",
      "2\n",
      "3\n"
     ]
    }
   ],
   "source": [
    "#Python also gives us access to object oriented programming\n",
    "#Class methods that start with a underscroe are private but Python wont stop us from calling them\n",
    "class CountingClicker:\n",
    "    \"\"\"\n",
    "    Python classes can also contain a docstring\n",
    "    \"\"\"\n",
    "    #The constructor with a default value and a function\n",
    "    def __init__(self, count = 0):\n",
    "     self.count = count\n",
    "     print(self.count)\n",
    "\n",
    "\n",
    "clicker1 = CountingClicker()\n",
    "clicker2 = CountingClicker(2)\n",
    "clicker3 = CountingClicker(3)"
   ]
  }
 ],
 "metadata": {
  "kernelspec": {
   "display_name": "Python 3 (ipykernel)",
   "language": "python",
   "name": "python3"
  },
  "language_info": {
   "codemirror_mode": {
    "name": "ipython",
    "version": 3
   },
   "file_extension": ".py",
   "mimetype": "text/x-python",
   "name": "python",
   "nbconvert_exporter": "python",
   "pygments_lexer": "ipython3",
   "version": "3.13.5"
  }
 },
 "nbformat": 4,
 "nbformat_minor": 5
}
